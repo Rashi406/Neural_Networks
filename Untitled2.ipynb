{
 "cells": [
  {
   "cell_type": "code",
   "execution_count": 16,
   "metadata": {},
   "outputs": [],
   "source": [
    "import numpy as np # linear algebra\n",
    "import pandas as pd # data processing, CSV file I/O (e.g. pd.read_csv)\n",
    "import matplotlib.pyplot as plt\n",
    "import pydicom as pdcm\n",
    "import pylab\n",
    "import os,cv2\n",
    "\n",
    "\n",
    "import tensorflow as tf\n",
    "import keras\n",
    "from keras.models import Sequential\n",
    "from keras.layers import Conv2D, MaxPooling2D, AveragePooling2D\n",
    "from keras.layers import Dense, Activation, Dropout, Flatten, BatchNormalization\n",
    "\n",
    "from keras.preprocessing import image\n",
    "from keras.preprocessing.image import ImageDataGenerator\n",
    "\n",
    "from skimage import color\n",
    "from skimage import io"
   ]
  },
  {
   "cell_type": "code",
   "execution_count": 42,
   "metadata": {},
   "outputs": [],
   "source": [
    "#print(os.listdir(\"F:/project/\"))\n",
    "#input_path = \"F:/project/\"\n",
    "data_path = 'D:/project/dataset'\n",
    "#data_path = 'D:/project/dataset/d2'\n",
    "#data_path = 'D:/project/dataset/d3'\n",
    "data_dir_list = os.listdir(data_path)\n",
    "config = tf.ConfigProto( device_count = {'GPU': 0 , 'CPU': 56} ) #max: 1 gpu, 56 cpu\n",
    "sess = tf.Session(config=config) \n",
    "keras.backend.set_session(sess)"
   ]
  },
  {
   "cell_type": "code",
   "execution_count": 52,
   "metadata": {},
   "outputs": [
    {
     "name": "stdout",
     "output_type": "stream",
     "text": [
      "Loaded the images of dataset-negative\n",
      "\n",
      "Loaded the images of dataset-positive\n",
      "\n"
     ]
    }
   ],
   "source": [
    "img_data_list=[]\n",
    "for dataset in data_dir_list:\n",
    "    img_list=os.listdir(data_path+'/'+ dataset)\n",
    "    print ('Loaded the images of dataset-'+'{}\\n'.format(dataset))\n",
    "    for img in img_list:\n",
    "        input_img=cv2.imread(data_path + '/'+ dataset + '/'+ img )\n",
    "        #print(data_path + '/'+ dataset + '/'+ img)\n",
    "        input_img=cv2.cvtColor(input_img, cv2.COLOR_BGR2GRAY)\n",
    "        input_img_resize=cv2.resize(input_img,(32,32))  #model 1 and 2 and 3\n",
    "        #input_img_resize=cv2.resize(input_img,(48,48))  #model 4\n",
    "        img_data_list.append(input_img_resize)"
   ]
  },
  {
   "cell_type": "code",
   "execution_count": 53,
   "metadata": {},
   "outputs": [
    {
     "name": "stdout",
     "output_type": "stream",
     "text": [
      "(15500, 32, 32)\n"
     ]
    },
    {
     "data": {
      "image/png": "[encoded data removed]",
      "text/plain": [
       "<Figure size 432x288 with 1 Axes>"
      ]
     },
     "metadata": {
      "needs_background": "light"
     },
     "output_type": "display_data"
    }
   ],
   "source": [
    "img_data = np.array(img_data_list)\n",
    "img_data = img_data.astype('float32')\n",
    "img_data /= 255\n",
    "print (img_data.shape)\n",
    "plt.imshow( img_data[0])\n",
    "img_data = img_data.reshape(img_data.shape[0], 32, 32, 1)  #model 1 and 2 and 3\n",
    "#img_data = img_data.reshape(img_data.shape[0], 48, 48, 1)  #model 4"
   ]
  },
  {
   "cell_type": "code",
   "execution_count": 54,
   "metadata": {},
   "outputs": [],
   "source": [
    "labels = np.ones(15500,dtype='int64') # d1 and d2\n",
    "#labels = np.ones(5500,dtype='int64') #d3\n",
    "\n",
    "labels[0:8000]=0\n",
    "labels[8000:]=1\n",
    "# labels[0:3000]=0\n",
    "# labels[3000:]=1"
   ]
  },
  {
   "cell_type": "code",
   "execution_count": 55,
   "metadata": {},
   "outputs": [],
   "source": [
    "names = ['Normal', 'PNEUMONIA']"
   ]
  },
  {
   "cell_type": "code",
   "execution_count": 56,
   "metadata": {},
   "outputs": [
    {
     "name": "stdout",
     "output_type": "stream",
     "text": [
      "test shape (3100, 32, 32, 1)\n"
     ]
    }
   ],
   "source": [
    "from keras.utils import np_utils\n",
    "from sklearn.utils import shuffle\n",
    "from sklearn.model_selection import train_test_split\n",
    "from sklearn.metrics import confusion_matrix\n",
    "Y = np_utils.to_categorical(labels, 2)\n",
    "\n",
    "#Shuffle the dataset\n",
    "x,y = shuffle(img_data,Y, random_state=2)\n",
    "# Split the dataset\n",
    "x_train, x_test, y_train, y_test = train_test_split(x, y, test_size=0.2, random_state=2)\n",
    "print('test shape', x_test.shape)"
   ]
  },
  {
   "cell_type": "code",
   "execution_count": 48,
   "metadata": {},
   "outputs": [],
   "source": [
    "#model 2\n",
    "model = Sequential()\n",
    "model.add(Conv2D(32, (3, 3), activation='relu', input_shape=(64,64,1)))\n",
    "model.add(MaxPooling2D(pool_size=(3,3), strides=(2, 2)))\n",
    "\n",
    "#2nd convolution layer\n",
    "#model.add(Conv2D(64, (3, 3), activation='relu'))\n",
    "model.add(Conv2D(16, (3, 3), activation='relu'))\n",
    "#model.add(MaxPooling2D(pool_size=(3,3), strides=(2, 2)))\n",
    "\n",
    "#3rd convolution layer\n",
    "#model.add(Conv2D(32, (3, 3), activation='relu'))\n",
    "model.add(Conv2D(32, (3, 3), activation='relu'))\n",
    "model.add(MaxPooling2D(pool_size=(3,3), strides=(2, 2)))\n",
    "\n",
    "model.add(Conv2D(16, (3, 3), activation='relu'))\n",
    "#model.add(MaxPooling2D(pool_size=(3,3), strides=(2, 2)))\n",
    "\n",
    "model.add(Conv2D(32, (3, 3), activation='relu'))\n",
    "#model.add(MaxPooling2D(pool_size=(3,3), strides=(2, 2)))\n",
    "\n",
    "#model.add(Conv2D(64, (3, 3), activation='relu'))\n",
    "\n",
    "model.add(Flatten())\n",
    "\n",
    "#fully connected neural networks\n",
    "model.add(Dense(128, activation='relu'))\n",
    "model.add(Dropout(0.2))\n",
    "#model.add(Dense(1024, activation='relu'))\n",
    "#model.add(Dropout(0.3))\n",
    "\n",
    "model.add(Dense(2, activation='sigmoid'))"
   ]
  },
  {
   "cell_type": "code",
   "execution_count": 57,
   "metadata": {},
   "outputs": [],
   "source": [
    "from keras import models, layers\n",
    "#Instantiate an empty model\n",
    "model = Sequential()\n",
    "\n",
    "# C1 Convolutional Layer\n",
    "#model.add(layers.Conv2D(6, kernel_size=(5, 5), strides=(1, 1), activation='tanh', input_shape=(28,28,1), padding=\"same\"))\n",
    "model.add(layers.Conv2D(6, kernel_size=(5, 5), strides=(1, 1), activation='tanh', input_shape=(32,32,1), padding=\"same\"))\n",
    "# S2 Pooling Layer\n",
    "model.add(layers.AveragePooling2D(pool_size=(2, 2), strides=(1, 1), padding='valid'))\n",
    "\n",
    "# C3 Convolutional Layer\n",
    "model.add(layers.Conv2D(16, kernel_size=(5, 5), strides=(1, 1), activation='tanh', padding='valid'))\n",
    "\n",
    "# S4 Pooling Layer\n",
    "model.add(layers.AveragePooling2D(pool_size=(2, 2), strides=(2, 2), padding='valid'))\n",
    "\n",
    "# C5 Fully Connected Convolutional Layer\n",
    "model.add(layers.Conv2D(120, kernel_size=(5, 5), strides=(1, 1), activation='tanh', padding='valid'))\n",
    "#Flatten the CNN output so that we can connect it with fully connected layers\n",
    "model.add(layers.Flatten())\n",
    "\n",
    "# FC6 Fully Connected Layer\n",
    "model.add(layers.Dense(84, activation='tanh'))\n",
    "\n",
    "#Output Layer with softmax activation\n",
    "model.add(layers.Dense(2, activation='softmax'))\n",
    "\n",
    "# Compile the model\n",
    "model.compile(loss=keras.losses.categorical_crossentropy, optimizer='SGD', metrics=[\"accuracy\"])"
   ]
  },
  {
   "cell_type": "code",
   "execution_count": 49,
   "metadata": {},
   "outputs": [
    {
     "name": "stdout",
     "output_type": "stream",
     "text": [
      "_________________________________________________________________\n",
      "Layer (type)                 Output Shape              Param #   \n",
      "=================================================================\n",
      "conv2d_16 (Conv2D)           (None, 62, 62, 32)        320       \n",
      "_________________________________________________________________\n",
      "max_pooling2d_7 (MaxPooling2 (None, 30, 30, 32)        0         \n",
      "_________________________________________________________________\n",
      "conv2d_17 (Conv2D)           (None, 28, 28, 16)        4624      \n",
      "_________________________________________________________________\n",
      "conv2d_18 (Conv2D)           (None, 26, 26, 32)        4640      \n",
      "_________________________________________________________________\n",
      "max_pooling2d_8 (MaxPooling2 (None, 12, 12, 32)        0         \n",
      "_________________________________________________________________\n",
      "conv2d_19 (Conv2D)           (None, 10, 10, 16)        4624      \n",
      "_________________________________________________________________\n",
      "conv2d_20 (Conv2D)           (None, 8, 8, 32)          4640      \n",
      "_________________________________________________________________\n",
      "flatten_4 (Flatten)          (None, 2048)              0         \n",
      "_________________________________________________________________\n",
      "dense_7 (Dense)              (None, 128)               262272    \n",
      "_________________________________________________________________\n",
      "dropout_4 (Dropout)          (None, 128)               0         \n",
      "_________________________________________________________________\n",
      "dense_8 (Dense)              (None, 2)                 258       \n",
      "=================================================================\n",
      "Total params: 281,378\n",
      "Trainable params: 281,378\n",
      "Non-trainable params: 0\n",
      "_________________________________________________________________\n"
     ]
    },
    {
     "data": {
      "text/plain": [
       "True"
      ]
     },
     "execution_count": 49,
     "metadata": {},
     "output_type": "execute_result"
    }
   ],
   "source": [
    "model.compile(loss='binary_crossentropy'\n",
    "    , optimizer=keras.optimizers.Adam()\n",
    "    , metrics=['accuracy']\n",
    ")\n",
    "batch_size = 128\n",
    "#print('test shape', x_test.shape)\n",
    "\n",
    "model.summary()\n",
    "model.get_config()\n",
    "model.layers[0].get_config()\n",
    "model.layers[0].input_shape\t\t\t\n",
    "model.layers[0].output_shape\t\t\t\n",
    "model.layers[0].get_weights()\n",
    "np.shape(model.layers[0].get_weights()[0])\n",
    "model.layers[0].trainable"
   ]
  },
  {
   "cell_type": "code",
   "execution_count": 37,
   "metadata": {},
   "outputs": [
    {
     "name": "stderr",
     "output_type": "stream",
     "text": [
      "C:\\Users\\Rajesh Kumar Sharma\\Anaconda3\\lib\\site-packages\\ipykernel_launcher.py:2: UserWarning: The `nb_epoch` argument in `fit` has been renamed `epochs`.\n",
      "  \n"
     ]
    },
    {
     "name": "stdout",
     "output_type": "stream",
     "text": [
      "Train on 12400 samples, validate on 3100 samples\n",
      "Epoch 1/5\n",
      "12400/12400 [==============================] - 35s 3ms/step - loss: 0.2713 - acc: 0.8758 - val_loss: 0.3346 - val_acc: 0.8471\n",
      "Epoch 2/5\n",
      "12400/12400 [==============================] - 36s 3ms/step - loss: 0.2594 - acc: 0.8835 - val_loss: 0.3332 - val_acc: 0.8506\n",
      "Epoch 3/5\n",
      "12400/12400 [==============================] - 38s 3ms/step - loss: 0.2500 - acc: 0.8900 - val_loss: 0.3639 - val_acc: 0.8471\n",
      "Epoch 4/5\n",
      "12400/12400 [==============================] - 39s 3ms/step - loss: 0.2453 - acc: 0.8903 - val_loss: 0.3579 - val_acc: 0.8476\n",
      "Epoch 5/5\n",
      "12400/12400 [==============================] - 39s 3ms/step - loss: 0.2289 - acc: 0.8981 - val_loss: 0.3731 - val_acc: 0.8421\n"
     ]
    }
   ],
   "source": [
    "model.load_weights(\"wts_m9_v1_nd.h5\")\n",
    "hist=model.fit(x_train, y_train, batch_size=batch_size, nb_epoch=5, verbose=1, validation_data=(x_test, y_test))\n",
    "model.save_weights('wts_m9_v2_nd.h5') #20"
   ]
  },
  {
   "cell_type": "code",
   "execution_count": 58,
   "metadata": {},
   "outputs": [
    {
     "name": "stdout",
     "output_type": "stream",
     "text": [
      "acc: 82.71%\n"
     ]
    }
   ],
   "source": [
    "model.load_weights(\"wts_m8_v8p2_nd.h5\")\n",
    "scores = model.evaluate(x_test, y_test, verbose=0)\n",
    "print(\"%s: %.2f%%\" % (model.metrics_names[1], scores[1]*100))"
   ]
  },
  {
   "cell_type": "code",
   "execution_count": null,
   "metadata": {},
   "outputs": [],
   "source": [
    "#model.load_weights(\"wts_m9_v2_nd.h5\")\n",
    "hist=model.fit(x_train, y_train, batch_size=batch_size, nb_epoch=5, verbose=1, validation_data=(x_test, y_test))\n",
    "model.save_weights('wts_m9_v2_nd.h5')"
   ]
  },
  {
   "cell_type": "code",
   "execution_count": null,
   "metadata": {},
   "outputs": [],
   "source": [
    "#model.load_weights(\"wts_m9_v3_nd.h5\")\n",
    "hist=model.fit(x_train, y_train, batch_size=batch_size, nb_epoch=5, verbose=1, validation_data=(x_test, y_test))\n",
    "model.save_weights('wts_m9_v3_nd.h5')"
   ]
  },
  {
   "cell_type": "code",
   "execution_count": 61,
   "metadata": {},
   "outputs": [
    {
     "name": "stderr",
     "output_type": "stream",
     "text": [
      "C:\\Users\\Rajesh Kumar Sharma\\Anaconda3\\lib\\site-packages\\ipykernel_launcher.py:29: DeprecationWarning: Both axis > a.ndim and axis < -a.ndim - 1 are deprecated and will raise an AxisError in the future.\n"
     ]
    },
    {
     "name": "stdout",
     "output_type": "stream",
     "text": [
      "prediction tp:\n",
      " 385 tn:\n",
      " 5\n",
      "total: 390\n"
     ]
    }
   ],
   "source": [
    "from keras import backend as K\n",
    "num_channel=1\n",
    "model.load_weights(\"wts_m8_v8p2_nd.h5\")\n",
    "data_path = 'D:/intern/chest_xray/test/PNEUMONIA/'\n",
    "img_list=os.listdir('D:/intern/chest_xray/test/PNEUMONIA/')\n",
    "    #print ('Loaded the images of dataset-'+'{}\\n'.format(dataset))\n",
    "tp = 0\n",
    "fp = 0\n",
    "tn = 0\n",
    "fn = 0\n",
    "total = 0\n",
    "for img in img_list:\n",
    "    test_image=cv2.imread(data_path + '/'+ img )\n",
    "# Testing a new image\n",
    "#test_image = cv2.imread(NORMAL2-IM-1440-0001.jpeg')\n",
    "    test_image=cv2.cvtColor(test_image, cv2.COLOR_BGR2GRAY)\n",
    "    test_image=cv2.resize(test_image,(32,32))\n",
    "    test_image = np.array(test_image)\n",
    "    test_image = test_image.astype('float32')\n",
    "    test_image /= 255\n",
    "        #print (test_image.shape)\n",
    "   \n",
    "    if num_channel==1:\n",
    "        if K.image_dim_ordering()=='th':\n",
    "            test_image= np.expand_dims(test_image, axis=0)\n",
    "            test_image= np.expand_dims(test_image, axis=0)\n",
    "                #print (test_image.shape)\n",
    "        else:\n",
    "            test_image= np.expand_dims(test_image, axis=3) \n",
    "            test_image= np.expand_dims(test_image, axis=0)\n",
    "                #print (test_image.shape)\n",
    "\t\t\n",
    "    else:\n",
    "        if K.image_dim_ordering()=='th':\n",
    "            test_image=np.rollaxis(test_image,2,0)\n",
    "            test_image= np.expand_dims(test_image, axis=0)\n",
    "                #print (test_image.shape)\n",
    "        else:\n",
    "            test_image= np.expand_dims(test_image, axis=0)\n",
    "                #print (test_image.shape)\n",
    "\t\t\n",
    "# Predicting the test image\n",
    "    \n",
    "    prediction = model.predict(test_image)\n",
    "    #print('Prediction Score:\\n',prediction[0])\n",
    "    #print(model.predict_classes(test_image))\n",
    "    if prediction[0][0]>prediction[0][1]:\n",
    "        tn = tn + 1\n",
    "        #print(names[0])\n",
    "        \n",
    "    else :\n",
    "        tp = tp + 1\n",
    "    total = total+1\n",
    "print('prediction tp:\\n', tp,\"tn:\\n\",tn)\n",
    "print(\"total:\", total)"
   ]
  },
  {
   "cell_type": "code",
   "execution_count": null,
   "metadata": {},
   "outputs": [],
   "source": [
    ""
   ]
  }
 ],
 "metadata": {
  "kernelspec": {
   "display_name": "Python 3",
   "language": "python",
   "name": "python3"
  },
  "language_info": {
   "codemirror_mode": {
    "name": "ipython",
    "version": 3.0
   },
   "file_extension": ".py",
   "mimetype": "text/x-python",
   "name": "python",
   "nbconvert_exporter": "python",
   "pygments_lexer": "ipython3",
   "version": "3.6.8"
  }
 },
 "nbformat": 4,
 "nbformat_minor": 0
}