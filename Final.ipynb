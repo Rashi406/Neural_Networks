{
 "cells": [
  {
   "cell_type": "code",
   "execution_count": 1,
   "metadata": {},
   "outputs": [],
   "source": [
    "import cv2\n",
    "import numpy as np\n",
    "from PIL import Image, ImageFilter \n",
    "import statistics \n",
    "import math\n",
    "from scipy import ndimage\n",
    "import matplotlib.pyplot as plt"
   ]
  },
  {
   "cell_type": "markdown",
   "metadata": {},
   "source": [
    "### Blackened"
   ]
  },
  {
   "cell_type": "code",
   "execution_count": 8,
   "metadata": {},
   "outputs": [],
   "source": [
    "# For image 1\n",
    "def black_dots(img_path, n = 4):\n",
    "    image=cv2.imread(img_path)#read in the image    \n",
    "    img=cv2.cvtColor(image,cv2.COLOR_BGR2GRAY)  #RGB To Gray Scale\n",
    "    _, blackAndWhite = cv2.threshold(img, 127, 255, cv2.THRESH_BINARY_INV) # Threshold it so image becomes binary\n",
    "    nlabels, labels, stats, centroids = cv2.connectedComponentsWithStats(blackAndWhite, 4, cv2.CV_32S)\n",
    "    sizes = stats[1:, -1] #get CC_STAT_AREA component\n",
    "    img2 = np.zeros((labels.shape), np.uint8)\n",
    "    #Filter small dotted regions. Greater the size of n more information is lost from image.\n",
    "    for i in range(0, nlabels - 1):\n",
    "        if sizes[i] >= n:   \n",
    "            img2[labels == i + 1] = 255\n",
    "    res = cv2.bitwise_not(img2) #Get the image back in black and white form from its inverted from\n",
    "    Image.fromarray(res).show() #View the image\n",
    "    \n",
    "black_dots(r\"C:\\Users\\1570670\\Videos\\Problem\\DAckathon-Image_Enrichment-Dataset\\Blackened\\blackened-1.jpg\", 4)"
   ]
  },
  {
   "cell_type": "code",
   "execution_count": 14,
   "metadata": {},
   "outputs": [],
   "source": [
    "#For images 3 - 6\n",
    "def remove_blackened(img_path):\n",
    "    image=cv2.imread(img_path) #read in the image    \n",
    "    gray=cv2.cvtColor(image,cv2.COLOR_BGR2GRAY)  #RGB To Gray Scale\n",
    "    im1 = Image.fromarray(gray) #Convert image to PIL image format\n",
    "    im2 = im1.filter(ImageFilter.MaxFilter(size = 3)) # apply max filter on the image to reduce blackening\n",
    "    im2.show() #View the image\n",
    "    \n",
    "remove_blackened(r\"C:\\Users\\1570670\\Videos\\Problem\\DAckathon-Image_Enrichment-Dataset\\Blackened\\blackened-4.jpg\")"
   ]
  },
  {
   "cell_type": "markdown",
   "metadata": {},
   "source": [
    "### Low Resolution"
   ]
  },
  {
   "cell_type": "code",
   "execution_count": 5,
   "metadata": {},
   "outputs": [],
   "source": [
    "def low_res(img_path, gamma = 2):\n",
    "    img_original=cv2.imread(img_path) #read in the image     \n",
    "    lookUpTable = np.empty((1,256), np.uint8) # Creating an empty lookup table for gamma function values\n",
    "    for i in range(256):\n",
    "        lookUpTable[0,i] = np.clip(pow(i / 255.0, gamma) * 255.0, 0, 255) # Fill the lookup table with gamma function values to increase contrast\n",
    "    res = cv2.LUT(img_original, lookUpTable) # Lookup the pixel values in image in lookup table and replace the pixel values in image with pixel values in lookup table.\n",
    "    res = cv2.cvtColor(res, cv2.COLOR_BGR2RGB)\n",
    "    res = Image.fromarray(res) #View the image \n",
    "    res.save(\"test-300.jpg\", dpi=(300,300))\n",
    "        \n",
    "low_res(r\"C:\\Users\\Rashi\\Downloads\\assignment\\DAckathon-Image_Enrichment-Dataset\\Low Resolution\\low-res-4.jpg\", 2)"
   ]
  },
  {
   "cell_type": "markdown",
   "metadata": {},
   "source": [
    "### Denoising"
   ]
  },
  {
   "cell_type": "code",
   "execution_count": 27,
   "metadata": {},
   "outputs": [],
   "source": [
    "def denoising(img_path):\n",
    "    img_original = cv2.imread(img_path) # Read original image\n",
    "    dst = cv2.medianBlur(img_original, 3) # Apply median filter to remove noise from image\n",
    "    Image.fromarray(dst).show() # View image\n",
    "    \n",
    "denoising(r\"C:\\Users\\1570670\\Videos\\Problem\\DAckathon-Image_Enrichment-Dataset\\Noise\\noise-2.jpg\")"
   ]
  },
  {
   "cell_type": "markdown",
   "metadata": {},
   "source": [
    "### Watermark"
   ]
  },
  {
   "cell_type": "code",
   "execution_count": 30,
   "metadata": {},
   "outputs": [],
   "source": [
    "def watermark(img_path, alpha = 2.2, beta = -160):\n",
    "    img_orig = cv2.imread(img_path) # Read original image    \n",
    "    res = alpha * img_orig + beta #  increase brightness using alpha until the watermark vanishes and reduce brightness using beta to compensate   \n",
    "    res = np.clip(res, 0, 255).astype(np.uint8) # Pixel values outside the interval are clipped to the interval edges.\n",
    "    Image.fromarray(res).show() # View image\n",
    "    \n",
    "watermark(r\"C:\\Users\\1570670\\Videos\\Problem\\DAckathon-Image_Enrichment-Dataset\\Watermark\\watermark-1.jpg\")"
   ]
  },
  {
   "cell_type": "markdown",
   "metadata": {},
   "source": [
    "### Rotation"
   ]
  },
  {
   "cell_type": "code",
   "execution_count": 22,
   "metadata": {},
   "outputs": [
    {
     "ename": "RuntimeError",
     "evalue": "invalid rotation plane specified",
     "traceback": [
      "\u001b[1;31m---------------------------------------------------------------------------\u001b[0m",
      "\u001b[1;31mRuntimeError\u001b[0m                              Traceback (most recent call last)",
      "\u001b[1;32m<ipython-input-22-4c79739e67c5>\u001b[0m in \u001b[0;36m<module>\u001b[1;34m()\u001b[0m\n\u001b[0;32m      4\u001b[0m     \u001b[0mImage\u001b[0m\u001b[1;33m.\u001b[0m\u001b[0mfromarray\u001b[0m\u001b[1;33m(\u001b[0m\u001b[0mrotated\u001b[0m\u001b[1;33m)\u001b[0m\u001b[1;33m.\u001b[0m\u001b[0mshow\u001b[0m\u001b[1;33m(\u001b[0m\u001b[1;33m)\u001b[0m \u001b[1;31m# View image\u001b[0m\u001b[1;33m\u001b[0m\u001b[0m\n\u001b[0;32m      5\u001b[0m \u001b[1;33m\u001b[0m\u001b[0m\n\u001b[1;32m----> 6\u001b[1;33m \u001b[0mrotate\u001b[0m\u001b[1;33m(\u001b[0m\u001b[1;34mr\"C:\\Users\\1570670\\Videos\\Problem\\DAckathon-Image_Enrichment-Dataset\\Rotation\\rotate-5-brokenlines.jpg\"\u001b[0m\u001b[1;33m,\u001b[0m \u001b[1;36m90\u001b[0m\u001b[1;33m)\u001b[0m\u001b[1;33m\u001b[0m\u001b[0m\n\u001b[0m",
      "\u001b[1;32m<ipython-input-22-4c79739e67c5>\u001b[0m in \u001b[0;36mrotate\u001b[1;34m(img_path, angle)\u001b[0m\n\u001b[0;32m      1\u001b[0m \u001b[1;32mdef\u001b[0m \u001b[0mrotate\u001b[0m\u001b[1;33m(\u001b[0m\u001b[0mimg_path\u001b[0m\u001b[1;33m,\u001b[0m \u001b[0mangle\u001b[0m\u001b[1;33m)\u001b[0m\u001b[1;33m:\u001b[0m\u001b[1;33m\u001b[0m\u001b[0m\n\u001b[0;32m      2\u001b[0m     \u001b[0mimg\u001b[0m \u001b[1;33m=\u001b[0m \u001b[0mcv2\u001b[0m\u001b[1;33m.\u001b[0m\u001b[0mimread\u001b[0m\u001b[1;33m(\u001b[0m\u001b[0mimg_path\u001b[0m\u001b[1;33m)\u001b[0m \u001b[1;31m# Read original image\u001b[0m\u001b[1;33m\u001b[0m\u001b[0m\n\u001b[1;32m----> 3\u001b[1;33m     \u001b[0mrotated\u001b[0m \u001b[1;33m=\u001b[0m \u001b[0mndimage\u001b[0m\u001b[1;33m.\u001b[0m\u001b[0mrotate\u001b[0m\u001b[1;33m(\u001b[0m\u001b[0mimg\u001b[0m\u001b[1;33m,\u001b[0m \u001b[0mangle\u001b[0m\u001b[1;33m)\u001b[0m \u001b[1;31m# Positive angle rotates image in anticlockwise direction and negative rotates in clockwise direction\u001b[0m\u001b[1;33m\u001b[0m\u001b[0m\n\u001b[0m\u001b[0;32m      4\u001b[0m     \u001b[0mImage\u001b[0m\u001b[1;33m.\u001b[0m\u001b[0mfromarray\u001b[0m\u001b[1;33m(\u001b[0m\u001b[0mrotated\u001b[0m\u001b[1;33m)\u001b[0m\u001b[1;33m.\u001b[0m\u001b[0mshow\u001b[0m\u001b[1;33m(\u001b[0m\u001b[1;33m)\u001b[0m \u001b[1;31m# View image\u001b[0m\u001b[1;33m\u001b[0m\u001b[0m\n\u001b[0;32m      5\u001b[0m \u001b[1;33m\u001b[0m\u001b[0m\n",
      "\u001b[1;32mG:\\soft\\Anaconda\\lib\\site-packages\\scipy\\ndimage\\interpolation.py\u001b[0m in \u001b[0;36mrotate\u001b[1;34m(input, angle, axes, reshape, output, order, mode, cval, prefilter)\u001b[0m\n\u001b[0;32m    650\u001b[0m         \u001b[0maxes\u001b[0m\u001b[1;33m[\u001b[0m\u001b[1;36m1\u001b[0m\u001b[1;33m]\u001b[0m \u001b[1;33m+=\u001b[0m \u001b[0mrank\u001b[0m\u001b[1;33m\u001b[0m\u001b[0m\n\u001b[0;32m    651\u001b[0m     \u001b[1;32mif\u001b[0m \u001b[0maxes\u001b[0m\u001b[1;33m[\u001b[0m\u001b[1;36m0\u001b[0m\u001b[1;33m]\u001b[0m \u001b[1;33m<\u001b[0m \u001b[1;36m0\u001b[0m \u001b[1;32mor\u001b[0m \u001b[0maxes\u001b[0m\u001b[1;33m[\u001b[0m\u001b[1;36m1\u001b[0m\u001b[1;33m]\u001b[0m \u001b[1;33m<\u001b[0m \u001b[1;36m0\u001b[0m \u001b[1;32mor\u001b[0m \u001b[0maxes\u001b[0m\u001b[1;33m[\u001b[0m\u001b[1;36m0\u001b[0m\u001b[1;33m]\u001b[0m \u001b[1;33m>\u001b[0m \u001b[0mrank\u001b[0m \u001b[1;32mor\u001b[0m \u001b[0maxes\u001b[0m\u001b[1;33m[\u001b[0m\u001b[1;36m1\u001b[0m\u001b[1;33m]\u001b[0m \u001b[1;33m>\u001b[0m \u001b[0mrank\u001b[0m\u001b[1;33m:\u001b[0m\u001b[1;33m\u001b[0m\u001b[0m\n\u001b[1;32m--> 652\u001b[1;33m         \u001b[1;32mraise\u001b[0m \u001b[0mRuntimeError\u001b[0m\u001b[1;33m(\u001b[0m\u001b[1;34m'invalid rotation plane specified'\u001b[0m\u001b[1;33m)\u001b[0m\u001b[1;33m\u001b[0m\u001b[0m\n\u001b[0m\u001b[0;32m    653\u001b[0m     \u001b[1;32mif\u001b[0m \u001b[0maxes\u001b[0m\u001b[1;33m[\u001b[0m\u001b[1;36m0\u001b[0m\u001b[1;33m]\u001b[0m \u001b[1;33m>\u001b[0m \u001b[0maxes\u001b[0m\u001b[1;33m[\u001b[0m\u001b[1;36m1\u001b[0m\u001b[1;33m]\u001b[0m\u001b[1;33m:\u001b[0m\u001b[1;33m\u001b[0m\u001b[0m\n\u001b[0;32m    654\u001b[0m         \u001b[0maxes\u001b[0m \u001b[1;33m=\u001b[0m \u001b[0maxes\u001b[0m\u001b[1;33m[\u001b[0m\u001b[1;36m1\u001b[0m\u001b[1;33m]\u001b[0m\u001b[1;33m,\u001b[0m \u001b[0maxes\u001b[0m\u001b[1;33m[\u001b[0m\u001b[1;36m0\u001b[0m\u001b[1;33m]\u001b[0m\u001b[1;33m\u001b[0m\u001b[0m\n",
      "\u001b[1;31mRuntimeError\u001b[0m: invalid rotation plane specified"
     ],
     "output_type": "error"
    }
   ],
   "source": [
    "def rotate(img_path, angle):    \n",
    "    img = cv2.imread(img_path) # Read original image \n",
    "    rotated = ndimage.rotate(img, angle) # Positive angle rotates image in anticlockwise direction and negative rotates in clockwise direction \n",
    "    Image.fromarray(rotated).show() # View image\n",
    "    \n",
    "rotate(r\"C:\\Users\\1570670\\Videos\\Problem\\DAckathon-Image_Enrichment-Dataset\\Rotation\\rotate-5-brokenlines.jpg\", 90)"
   ]
  },
  {
   "cell_type": "markdown",
   "metadata": {},
   "source": [
    "### Skew"
   ]
  },
  {
   "cell_type": "code",
   "execution_count": 13,
   "metadata": {},
   "outputs": [],
   "source": [
    "def getAngle(a, b, c):\n",
    "    # Find angle between three points\n",
    "    ang = math.degrees(math.atan2(c[1]-b[1], c[0]-b[0]) - math.atan2(a[1]-b[1], a[0]-b[0]))\n",
    "    return ang + 360 if ang < 0 else ang\n",
    "\n",
    "def deskew(img_path, n):\n",
    "    image = cv2.imread(img_path) # Read original image\n",
    "    #image = cv2.imread(r'C:\\Users\\1570670\\Videos\\Problem\\DAckathon-Image_Enrichment-Dataset\\Skew\\skew-1.jpg')\n",
    "    gray = cv2.cvtColor(image, cv2.COLOR_BGR2GRAY) #RGB To Gray Scale\n",
    "    edged = cv2.Canny(gray, 75, 200) # Extract edges from image\n",
    "    contours, hier = cv2.findContours(edged, cv2.RETR_TREE, cv2.CHAIN_APPROX_SIMPLE) # Find contours of image using edges\n",
    "    \n",
    "    ag = []\n",
    "    for c in contours:\n",
    "        rect = cv2.minAreaRect(c) # Using contours find minimum area rectangle points\n",
    "        box = cv2.boxPoints(rect) # Convert minimum area rectangle points to box points        \n",
    "        box = np.int0(box) # convert all coordinates floating point values to int\n",
    "        p1, p2, p3,p4 = box # Extracting the four corners of the box\n",
    "        if (p1[0] - p3[0])>0 and (p1[0] - p2[0])> n: # Check if the first box point is the right bottom corner\n",
    "            p5 = np.array([p2[0], p1[1]]) \n",
    "            angle = getAngle(p2, p1, p5) # Find the angle between line made by bottom points of rectangle with horizontal line\n",
    "            ag.append(angle) # Append the angle to a list    \n",
    "        elif (p3[0] - p1[1])>0 and (p4[0] - p1[0])> n: # Check if the first box point is the left bottom corner\n",
    "            p5 = np.array([p4[0], p1[1]])\n",
    "            angle = getAngle(p4, p1, p5) # Find the angle between line made by bottom points of rectangle with horizontal line\n",
    "            ag.append(angle) # Append the angle to a list \n",
    "        \n",
    "    md = statistics.median(ag) # Obtain the median of all angles to check if the image is skewed by a particular angle\n",
    "\n",
    "    rotated = ndimage.rotate(image, -md, cval = 255) # Rotate the image by the negative of the median of angles to deskew the image\n",
    "    return rotated\n",
    "    #Image.fromarray(rotated).show() # View image\n",
    "    \n",
    "rot = deskew(r'C:\\Users\\1570670\\Videos\\Problem\\DAckathon-Image_Enrichment-Dataset\\Perspective\\perspective-2.jpg', 20)"
   ]
  },
  {
   "cell_type": "markdown",
   "metadata": {},
   "source": [
    "### Perspective"
   ]
  },
  {
   "cell_type": "code",
   "execution_count": 17,
   "metadata": {},
   "outputs": [],
   "source": [
    "def order_pts(h):\n",
    "    pts = np.zeros((4,2),dtype = np.float32)\n",
    "    add = h.sum(axis = 1)\n",
    "    pts[0] = h[np.argmin(add)]\n",
    "    pts[2] = h[np.argmax(add)]\n",
    "    diff = np.diff(h,axis = 1)\n",
    "    pts[1] = h[np.argmin(diff)]\n",
    "    pts[3] = h[np.argmax(diff)]\n",
    "    return pts\n",
    "\n",
    "def draw_polygon(event, x, y, flags, param):\n",
    "    global target, img, img2, temp\n",
    "    if event == cv2.EVENT_LBUTTONDOWN:        \n",
    "        target[4][0] = x\n",
    "        target[4][1] = y\n",
    "        cv2.circle(img,(target[4][0],target[4][1]), 3, (0,0,255), 2) \n",
    "        approx = order_pts(target)        \n",
    "        target[0] = approx[0]\n",
    "        target[1] = approx[1]\n",
    "        target[2] = approx[2]\n",
    "        target[3] = approx[3]\n",
    "        cv2.drawContours(img2, [np.int0(approx)], -1, (255, 255, 0), 2)\n",
    "        img = img2.copy()\n",
    "        img2 = temp.copy()\n",
    "\n",
    "#def perspective(img_path):\n",
    "src = cv2.imread(r'C:\\Users\\Rashi\\Downloads\\assignment\\DAckathon-Image_Enrichment-Dataset\\Perspective\\perspective-2.jpg')\n",
    "img = src.copy()\n",
    "img2 = src.copy()\n",
    "temp = src.copy()\n",
    "gray = cv2.cvtColor(src, cv2.COLOR_BGR2GRAY) \n",
    "edged = cv2.Canny(gray, 75, 200)\n",
    "\n",
    "i, contours, hierarchy = cv2.findContours(edged, cv2.RETR_TREE, cv2.CHAIN_APPROX_SIMPLE)\n",
    "contours=sorted(contours,key=cv2.contourArea,reverse=True)[1:]\n",
    "\n",
    "lis = []\n",
    "for c in contours:\n",
    "    rect = cv2.minAreaRect(c)    \n",
    "    box = cv2.boxPoints(rect)\n",
    "    box = np.int0(box)\n",
    "    for i in box:\n",
    "        lis.append(i)        \n",
    "\n",
    "arr = np.asarray(lis)\n",
    "points = cv2.convexHull(arr)\n",
    "rect = np.zeros((4, 2), dtype = \"float32\")\n",
    "target = np.zeros((5, 2), dtype = \"float32\")\n",
    "s = points.sum(axis = 2)\n",
    "target[0] = rect[0] = points[np.argmin(s)]\n",
    "target[2] = rect[2] = points[np.argmax(s)]\n",
    "diff = np.diff(points, axis = 2)\n",
    "target[1] = rect[1] = points[np.argmin(diff)]\n",
    "target[3] = rect[3] = points[np.argmax(diff)]\n",
    "    \n",
    "cv2.drawContours(img, [np.int0(rect)], -1, (255, 0, 0), 2)\n",
    "clone = img.copy()\n",
    "height, width = img.shape[:2]\n",
    "cv2.namedWindow('image', cv2.WINDOW_NORMAL)\n",
    "cv2.resizeWindow('image', width, height)\n",
    "cv2.setMouseCallback(\"image\", draw_polygon) \n",
    "    \n",
    "while True: \n",
    "    # display the image and wait for a keypress \n",
    "    cv2.imshow(\"image\", img)    \n",
    "    key = cv2.waitKey(1) & 0xFF\n",
    "  \n",
    "    # press 'r' to reset the window \n",
    "    if key == ord(\"r\"): \n",
    "        img = clone.copy()\n",
    "        img2 = src.copy()        \n",
    "        target[0] = rect[0]\n",
    "        target[1] = rect[1]\n",
    "        target[2] = rect[2]\n",
    "        target[3] = rect[3]      \n",
    "      \n",
    "    # if the 'q' key is pressed, break from the loop \n",
    "    if key == ord(\"q\"): \n",
    "        break\n",
    "        \n",
    "cv2.destroyAllWindows()        \n",
    "rect[0] = target[0]\n",
    "rect[1] = target[1]\n",
    "rect[2] = target[2]\n",
    "rect[3] = target[3]\n",
    "\n",
    "box = np.float32(np.int0(rect))   \n",
    "pts = np.float32([[0,0],[src.shape[1],0],[src.shape[1],src.shape[0]],[0,src.shape[0]]])  #map to 800*800 target window\n",
    "op = cv2.getPerspectiveTransform(box,pts)  #get the top or bird eye view effect\n",
    "dst = cv2.warpPerspective(src,op,(src.shape[1],src.shape[0]))\n",
    "dst = cv2.cvtColor(dst, cv2.COLOR_BGR2RGB)\n",
    "Image.fromarray(dst).show()"
   ]
  },
  {
   "cell_type": "code",
   "execution_count": 21,
   "metadata": {},
   "outputs": [
    {
     "ename": "RuntimeError",
     "evalue": "invalid rotation plane specified",
     "traceback": [
      "\u001b[1;31m---------------------------------------------------------------------------\u001b[0m",
      "\u001b[1;31mRuntimeError\u001b[0m                              Traceback (most recent call last)",
      "\u001b[1;32m<ipython-input-21-5e941d52cfb5>\u001b[0m in \u001b[0;36m<module>\u001b[1;34m()\u001b[0m\n\u001b[0;32m     94\u001b[0m     \u001b[0mImage\u001b[0m\u001b[1;33m.\u001b[0m\u001b[0mfromarray\u001b[0m\u001b[1;33m(\u001b[0m\u001b[0mdst\u001b[0m\u001b[1;33m)\u001b[0m\u001b[1;33m.\u001b[0m\u001b[0mshow\u001b[0m\u001b[1;33m(\u001b[0m\u001b[1;33m)\u001b[0m\u001b[1;33m\u001b[0m\u001b[0m\n\u001b[0;32m     95\u001b[0m \u001b[1;33m\u001b[0m\u001b[0m\n\u001b[1;32m---> 96\u001b[1;33m \u001b[0mperspective\u001b[0m\u001b[1;33m(\u001b[0m\u001b[1;34mr'C:\\Users\\1570670\\Videos\\Problem\\DAckathon-Image_Enrichment-Dataset\\Perspective\\perspective-2.jpg'\u001b[0m\u001b[1;33m,\u001b[0m\u001b[1;36m90\u001b[0m\u001b[1;33m)\u001b[0m\u001b[1;33m\u001b[0m\u001b[0m\n\u001b[0m",
      "\u001b[1;32m<ipython-input-21-5e941d52cfb5>\u001b[0m in \u001b[0;36mperspective\u001b[1;34m(img_path, angle)\u001b[0m\n\u001b[0;32m     39\u001b[0m     \u001b[1;31m#src = cv2.imread(r'C:\\Users\\1570670\\Videos\\Problem\\DAckathon-Image_Enrichment-Dataset\\Perspective\\perspective-2.jpg')\u001b[0m\u001b[1;33m\u001b[0m\u001b[1;33m\u001b[0m\u001b[0m\n\u001b[0;32m     40\u001b[0m     \u001b[1;31m#Image.fromarray(src).show()\u001b[0m\u001b[1;33m\u001b[0m\u001b[1;33m\u001b[0m\u001b[0m\n\u001b[1;32m---> 41\u001b[1;33m     \u001b[0morig_rotated\u001b[0m \u001b[1;33m=\u001b[0m \u001b[0mndimage\u001b[0m\u001b[1;33m.\u001b[0m\u001b[0mrotate\u001b[0m\u001b[1;33m(\u001b[0m\u001b[0msrc\u001b[0m\u001b[1;33m,\u001b[0m \u001b[0mangle\u001b[0m\u001b[1;33m)\u001b[0m \u001b[1;31m# Rotate the image so that the contents form a parallel trapezoid with smaller side on top\u001b[0m\u001b[1;33m\u001b[0m\u001b[0m\n\u001b[0m\u001b[0;32m     42\u001b[0m     \u001b[0mgray\u001b[0m \u001b[1;33m=\u001b[0m \u001b[0mcv2\u001b[0m\u001b[1;33m.\u001b[0m\u001b[0mcvtColor\u001b[0m\u001b[1;33m(\u001b[0m\u001b[0msrc\u001b[0m\u001b[1;33m,\u001b[0m \u001b[0mcv2\u001b[0m\u001b[1;33m.\u001b[0m\u001b[0mCOLOR_BGR2GRAY\u001b[0m\u001b[1;33m)\u001b[0m \u001b[1;31m# convert to grayscale\u001b[0m\u001b[1;33m\u001b[0m\u001b[0m\n\u001b[0;32m     43\u001b[0m     \u001b[0medged\u001b[0m \u001b[1;33m=\u001b[0m \u001b[0mcv2\u001b[0m\u001b[1;33m.\u001b[0m\u001b[0mCanny\u001b[0m\u001b[1;33m(\u001b[0m\u001b[0mgray\u001b[0m\u001b[1;33m,\u001b[0m \u001b[1;36m75\u001b[0m\u001b[1;33m,\u001b[0m \u001b[1;36m200\u001b[0m\u001b[1;33m)\u001b[0m\u001b[1;33m\u001b[0m\u001b[0m\n",
      "\u001b[1;32mG:\\soft\\Anaconda\\lib\\site-packages\\scipy\\ndimage\\interpolation.py\u001b[0m in \u001b[0;36mrotate\u001b[1;34m(input, angle, axes, reshape, output, order, mode, cval, prefilter)\u001b[0m\n\u001b[0;32m    650\u001b[0m         \u001b[0maxes\u001b[0m\u001b[1;33m[\u001b[0m\u001b[1;36m1\u001b[0m\u001b[1;33m]\u001b[0m \u001b[1;33m+=\u001b[0m \u001b[0mrank\u001b[0m\u001b[1;33m\u001b[0m\u001b[0m\n\u001b[0;32m    651\u001b[0m     \u001b[1;32mif\u001b[0m \u001b[0maxes\u001b[0m\u001b[1;33m[\u001b[0m\u001b[1;36m0\u001b[0m\u001b[1;33m]\u001b[0m \u001b[1;33m<\u001b[0m \u001b[1;36m0\u001b[0m \u001b[1;32mor\u001b[0m \u001b[0maxes\u001b[0m\u001b[1;33m[\u001b[0m\u001b[1;36m1\u001b[0m\u001b[1;33m]\u001b[0m \u001b[1;33m<\u001b[0m \u001b[1;36m0\u001b[0m \u001b[1;32mor\u001b[0m \u001b[0maxes\u001b[0m\u001b[1;33m[\u001b[0m\u001b[1;36m0\u001b[0m\u001b[1;33m]\u001b[0m \u001b[1;33m>\u001b[0m \u001b[0mrank\u001b[0m \u001b[1;32mor\u001b[0m \u001b[0maxes\u001b[0m\u001b[1;33m[\u001b[0m\u001b[1;36m1\u001b[0m\u001b[1;33m]\u001b[0m \u001b[1;33m>\u001b[0m \u001b[0mrank\u001b[0m\u001b[1;33m:\u001b[0m\u001b[1;33m\u001b[0m\u001b[0m\n\u001b[1;32m--> 652\u001b[1;33m         \u001b[1;32mraise\u001b[0m \u001b[0mRuntimeError\u001b[0m\u001b[1;33m(\u001b[0m\u001b[1;34m'invalid rotation plane specified'\u001b[0m\u001b[1;33m)\u001b[0m\u001b[1;33m\u001b[0m\u001b[0m\n\u001b[0m\u001b[0;32m    653\u001b[0m     \u001b[1;32mif\u001b[0m \u001b[0maxes\u001b[0m\u001b[1;33m[\u001b[0m\u001b[1;36m0\u001b[0m\u001b[1;33m]\u001b[0m \u001b[1;33m>\u001b[0m \u001b[0maxes\u001b[0m\u001b[1;33m[\u001b[0m\u001b[1;36m1\u001b[0m\u001b[1;33m]\u001b[0m\u001b[1;33m:\u001b[0m\u001b[1;33m\u001b[0m\u001b[0m\n\u001b[0;32m    654\u001b[0m         \u001b[0maxes\u001b[0m \u001b[1;33m=\u001b[0m \u001b[0maxes\u001b[0m\u001b[1;33m[\u001b[0m\u001b[1;36m1\u001b[0m\u001b[1;33m]\u001b[0m\u001b[1;33m,\u001b[0m \u001b[0maxes\u001b[0m\u001b[1;33m[\u001b[0m\u001b[1;36m0\u001b[0m\u001b[1;33m]\u001b[0m\u001b[1;33m\u001b[0m\u001b[0m\n",
      "\u001b[1;31mRuntimeError\u001b[0m: invalid rotation plane specified"
     ],
     "output_type": "error"
    }
   ],
   "source": [
    "def line(x1, x2, x_fin):\n",
    "    y_diff = x2[1] - x1[1]\n",
    "    x_diff = x2[0] - x1[0]\n",
    "    try:\n",
    "        m = y_diff/x_diff\n",
    "    except:        \n",
    "        return x_fin[0]\n",
    "    x = ((-x_fin[1])/m) + x_fin[0]\n",
    "    return x\n",
    "\n",
    "def intersection(M1, M2, X1, X2):\n",
    "    if (M1[0][0] - M1[1][0]) == 0 and (M2[0][1] - M2[1][1]) == 0:\n",
    "        x = X1[0]\n",
    "        y = 0\n",
    "        return x, y\n",
    "    elif (M1[0][0] - M1[1][0]) == 0:\n",
    "        x = X1[0]\n",
    "        m2 = (M2[0][1] - M2[1][1])/(M2[0][0] - M2[1][0])\n",
    "        c = -(m2* X2[0])\n",
    "        y = (m2*x) + c\n",
    "        return x, y\n",
    "    elif (M2[0][1] - M2[1][1]) == 0:\n",
    "        y = 0        \n",
    "        m1 = (M1[0][1] - M1[1][1])/(M1[0][0] - M1[1][0])\n",
    "        c = -(m1* X1[0]) + X1[1]\n",
    "        x = (-c)/m1\n",
    "        return x, y\n",
    "    else:\n",
    "        m1 = (M1[0][1] - M1[1][1])/(M1[0][0] - M1[1][0])\n",
    "        m2 = (M2[0][1] - M2[1][1])/(M2[0][0] - M2[1][0]) \n",
    "        m_diff = m2-m1\n",
    "        det = X1[1] + (m2* X2[0]) - (m1*X1[0])\n",
    "        x = det/m_diff\n",
    "        y = m2*(x-X2[0])\n",
    "        return x, y\n",
    "\n",
    "def perspective(img_path, angle):\n",
    "    src = cv2.imread(img_path) # Read original image\n",
    "    #src = cv2.imread(r'C:\\Users\\1570670\\Videos\\Problem\\DAckathon-Image_Enrichment-Dataset\\Perspective\\perspective-2.jpg')\n",
    "    #Image.fromarray(src).show()\n",
    "    orig_rotated = ndimage.rotate(src, angle) # Rotate the image so that the contents form a parallel trapezoid with smaller side on top\n",
    "    gray = cv2.cvtColor(src, cv2.COLOR_BGR2GRAY) # convert to grayscale\n",
    "    edged = cv2.Canny(gray, 75, 200)\n",
    "    rotated = ndimage.rotate(edged, angle)\n",
    "\n",
    "    i, contours, hierarchy = cv2.findContours(rotated, cv2.RETR_TREE, cv2.CHAIN_APPROX_SIMPLE)\n",
    "    contours=sorted(contours,key=cv2.contourArea,reverse=True)[1:]\n",
    "\n",
    "    lis = []\n",
    "    zero = np.zeros((edged.shape[0], edged.shape[1], 3), np.uint8)\n",
    "    for c in contours:\n",
    "        rect = cv2.minAreaRect(c)    \n",
    "        box = cv2.boxPoints(rect)\n",
    "        box = np.int0(box)         \n",
    "        for i in box:            \n",
    "            lis.append(i)     \n",
    "\n",
    "    arr = np.asarray(lis)\n",
    "    points = cv2.convexHull(arr)\n",
    "\n",
    "    rect = np.zeros((4, 2), dtype = \"float32\")\n",
    "    pts_fin = np.zeros((4, 2), dtype = \"float32\")\n",
    "    s = points.sum(axis = 2)\n",
    "\n",
    "    rect[0] = points[np.argmin(s)]\n",
    "    rect[2] = points[np.argmax(s)]\n",
    "\n",
    "    diff = np.diff(points, axis = 2)\n",
    "    rect[1] = points[np.argmin(diff)]\n",
    "    rect[3] = points[np.argmax(diff)]\n",
    "    \n",
    "    pts_fin[2][0] = rotated.shape[1] - 1\n",
    "    pts_fin[2][1] = rotated.shape[0] -1\n",
    "    pts_fin[3][0] = 0\n",
    "    pts_fin[3][1] = rotated.shape[0] -1\n",
    "\n",
    "    if rect[0][1] < rect[1][1]:\n",
    "        pts_fin[0][0] = line(rect[0], rect[3], pts_fin[3])\n",
    "        pts_fin[0][1] = 0\n",
    "        pts_fin[1][0], pts_fin[1][1] = intersection([rect[1], rect[2]], [rect[0], rect[1]], pts_fin[2], pts_fin[0])\n",
    "    \n",
    "    else:\n",
    "        pts_fin[1][0] = line(rect[1], rect[2], pts_fin[2])\n",
    "        pts_fin[1][1] = 0\n",
    "        pts_fin[0][0], pts_fin[0][1] = intersection([rect[0], rect[3]], [rect[0], rect[1]], pts_fin[3], pts_fin[1])\n",
    "    \n",
    "    box = np.float32(np.int0(pts_fin))\n",
    "    pts=np.float32([[0,0],[rotated.shape[1],0],[rotated.shape[1],rotated.shape[0]],[0,rotated.shape[0]]])  #map to 800*800 target window\n",
    "    orig_rotated = ndimage.rotate(src, angle) \n",
    "    op=cv2.getPerspectiveTransform(box,pts)  #get the top or bird eye view effect\n",
    "    dst=cv2.warpPerspective(orig_rotated,op,(rotated.shape[1],rotated.shape[0]))\n",
    "    dst = ndimage.rotate(dst, -(angle))\n",
    "\n",
    "    Image.fromarray(dst).show()\n",
    "    \n",
    "perspective(r'C:\\Users\\1570670\\Videos\\Problem\\DAckathon-Image_Enrichment-Dataset\\Perspective\\perspective-2.jpg',90)"
   ]
  },
  {
   "cell_type": "code",
   "execution_count": null,
   "metadata": {},
   "outputs": [],
   "source": [
    ""
   ]
  }
 ],
 "metadata": {
  "kernelspec": {
   "display_name": "Python 3",
   "language": "python",
   "name": "python3"
  },
  "language_info": {
   "codemirror_mode": {
    "name": "ipython",
    "version": 3.0
   },
   "file_extension": ".py",
   "mimetype": "text/x-python",
   "name": "python",
   "nbconvert_exporter": "python",
   "pygments_lexer": "ipython3",
   "version": "3.6.5"
  }
 },
 "nbformat": 4,
 "nbformat_minor": 0
}