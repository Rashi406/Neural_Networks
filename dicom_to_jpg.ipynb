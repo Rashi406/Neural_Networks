{
 "cells": [
  {
   "cell_type": "code",
   "execution_count": 1,
   "metadata": {},
   "outputs": [],
   "source": [
    "import pydicom as dicom\n",
    "import os\n",
    "import cv2\n",
    "import PIL # optional\n",
    "input_path = \"F:/project/\"\n",
    "import pandas as pd\n",
    "import numpy as np"
   ]
  },
  {
   "cell_type": "code",
   "execution_count": 2,
   "metadata": {
    "scrolled": true
   },
   "outputs": [
    {
     "name": "stdout",
     "output_type": "stream",
     "text": [
      "26684\n"
     ]
    }
   ],
   "source": [
    "train_labels_info = pd.read_csv(input_path + 'stage_2_train_labels.csv')\n",
    "train_ID_list = train_labels_info['patientId'].tolist()\n",
    "train_UniqID = train_labels_info['patientId'].unique().tolist()\n",
    "print(len(train_UniqID))"
   ]
  },
  {
   "cell_type": "code",
   "execution_count": 3,
   "metadata": {},
   "outputs": [
    {
     "name": "stdout",
     "output_type": "stream",
     "text": [
      "30227\n"
     ]
    }
   ],
   "source": [
    "\n",
    "train_target = train_labels_info['Target'].tolist()\n",
    "print(len(train_target))"
   ]
  },
  {
   "cell_type": "code",
   "execution_count": 14,
   "metadata": {},
   "outputs": [
    {
     "name": "stdout",
     "output_type": "stream",
     "text": [
      "30227\n"
     ]
    }
   ],
   "source": [
    "for i in range(0, len(train_ID_list)):\n",
    "    filename = input_path+\"training/\" + train_ID_list[i] + '.dcm'\n",
    "    dcm_data = dicom.dcmread(filename)\n",
    "    img = dcm_data.pixel_array  \n",
    "    filename = input_path+\"train_jpg/\"+ train_ID_list[i] + '.jpg'\n",
    "    cv2.imwrite(filename, img)    "
   ]
  },
  {
   "cell_type": "code",
   "execution_count": null,
   "metadata": {},
   "outputs": [],
   "source": [
    "\"\"\"\"PNG = False\n",
    "# Specify the .dcm folder path\n",
    "folder_path = \"stage_1_test_images\"\n",
    "# Specify the output jpg/png folder path\n",
    "jpg_folder_path = \"JPG_test\"\n",
    "images_path = os.listdir(folder_path)\n",
    "for n, image in enumerate(images_path):\n",
    "    ds = dicom.dcmread(os.path.join(folder_path, image))\n",
    "    pixel_array_numpy = ds.pixel_array\n",
    "    if PNG == False:\n",
    "        image = image.replace('.dcm', '.jpg')\n",
    "    else:\n",
    "        image = image.replace('.dcm', '.png')\n",
    "    cv2.imwrite(os.path.join(jpg_folder_path, image), pixel_array_numpy)\n",
    "    if n % 50 == 0:\n",
    "        print('{} image converted'.format(n))\n",
    "        \"\"\"\""
   ]
  },
  {
   "cell_type": "code",
   "execution_count": 4,
   "metadata": {},
   "outputs": [
    {
     "name": "stdout",
     "output_type": "stream",
     "text": [
      "positve: 9555 \n",
      " negative: 20672\n"
     ]
    }
   ],
   "source": [
    "pos = []\n",
    "neg = []\n",
    "for i in range(0, len(train_ID_list)):\n",
    "    if train_target[i] == 1:\n",
    "        pos.append(train_ID_list[i])        \n",
    "    else:\n",
    "        neg.append(train_ID_list[i])\n",
    "        \n",
    "        \n",
    "print(\"positve:\",len(pos),\"\\n negative:\",len(neg))"
   ]
  },
  {
   "cell_type": "code",
   "execution_count": 5,
   "metadata": {},
   "outputs": [
    {
     "name": "stdout",
     "output_type": "stream",
     "text": [
      "positve: 6012 \n",
      " negative: 20672\n"
     ]
    }
   ],
   "source": [
    "#pos = np.array(pos)\n",
    "pos = list(set(pos))\n",
    "#neg = np.array(neg)\n",
    "neg = list(set(neg))\n",
    "\n",
    "print(\"positve:\",len(pos),\"\\n negative:\",len(neg))"
   ]
  },
  {
   "cell_type": "code",
   "execution_count": 6,
   "metadata": {},
   "outputs": [],
   "source": [
    "for i in range(5800, 6000):\n",
    "    filename = input_path+\"train_jpg/\"+ pos[i] + '.jpg'\n",
    "    img = cv2.imread(filename)\n",
    "    filename = input_path+\"test_final/pos/\"+ pos[i] + '.jpg'\n",
    "    cv2.imwrite(filename, img)"
   ]
  },
  {
   "cell_type": "code",
   "execution_count": 7,
   "metadata": {},
   "outputs": [],
   "source": [
    "for i in range(19800, 20000):\n",
    "    filename = input_path+\"train_jpg/\"+ neg[i] + '.jpg'\n",
    "    img = cv2.imread(filename)\n",
    "    filename = input_path+\"test_final/neg/\"+ neg[i] + '.jpg'\n",
    "    cv2.imwrite(filename, img)"
   ]
  },
  {
   "cell_type": "code",
   "execution_count": null,
   "metadata": {},
   "outputs": [],
   "source": []
  }
 ],
 "metadata": {
  "kernelspec": {
   "display_name": "Python 3",
   "language": "python",
   "name": "python3"
  },
  "language_info": {
   "codemirror_mode": {
    "name": "ipython",
    "version": 3
   },
   "file_extension": ".py",
   "mimetype": "text/x-python",
   "name": "python",
   "nbconvert_exporter": "python",
   "pygments_lexer": "ipython3",
   "version": "3.6.5"
  }
 },
 "nbformat": 4,
 "nbformat_minor": 2
}
