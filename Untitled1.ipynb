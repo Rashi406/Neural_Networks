{
 "cells": [
  {
   "cell_type": "code",
   "execution_count": 1,
   "metadata": {},
   "outputs": [
    {
     "name": "stderr",
     "output_type": "stream",
     "text": [
      "Using TensorFlow backend.\n"
     ]
    }
   ],
   "source": [
    "import numpy as np # linear algebra\n",
    "import pandas as pd # data processing, CSV file I/O (e.g. pd.read_csv)\n",
    "import matplotlib.pyplot as plt\n",
    "import pydicom as pdcm\n",
    "import pylab\n",
    "import os,cv2\n",
    "\n",
    "\n",
    "import tensorflow as tf\n",
    "import keras\n",
    "from keras.models import Sequential\n",
    "from keras.layers import Conv2D, MaxPooling2D, AveragePooling2D\n",
    "from keras.layers import Dense, Activation, Dropout, Flatten, BatchNormalization\n",
    "\n",
    "from keras.preprocessing import image\n",
    "from keras.preprocessing.image import ImageDataGenerator\n",
    "\n",
    "from skimage import color\n",
    "from skimage import io\n"
   ]
  },
  {
   "cell_type": "code",
   "execution_count": 2,
   "metadata": {},
   "outputs": [],
   "source": [
    "#print(os.listdir(\"F:/project/\"))\n",
    "#input_path = \"F:/project/\"\n",
    "data_path = 'D:\\project\\dataset'\n",
    "data_dir_list = os.listdir(data_path)\n",
    "config = tf.ConfigProto( device_count = {'GPU': 0 , 'CPU': 56} ) #max: 1 gpu, 56 cpu\n",
    "sess = tf.Session(config=config) \n",
    "keras.backend.set_session(sess)"
   ]
  },
  {
   "cell_type": "code",
   "execution_count": 4,
   "metadata": {},
   "outputs": [
    {
     "name": "stdout",
     "output_type": "stream",
     "text": [
      "Loaded the images of dataset-negative\n",
      "\n",
      "Loaded the images of dataset-positive\n",
      "\n"
     ]
    }
   ],
   "source": [
    "img_data_list=[]\n",
    "for dataset in data_dir_list:\n",
    "    img_list=os.listdir(data_path+'/'+ dataset)\n",
    "    print ('Loaded the images of dataset-'+'{}\\n'.format(dataset))\n",
    "    for img in img_list:\n",
    "        input_img=cv2.imread(data_path + '/'+ dataset + '/'+ img )\n",
    "        #print(data_path + '/'+ dataset + '/'+ img)\n",
    "        input_img=cv2.cvtColor(input_img, cv2.COLOR_BGR2GRAY)\n",
    "        input_img_resize=cv2.resize(input_img,(64,64))  #model 1 and 2 and 3\n",
    "        #input_img_resize=cv2.resize(input_img,(48,48))  #model 4\n",
    "        #input_img_resize=cv2.resize(input_img,(32,32))\n",
    "        img_data_list.append(input_img_resize)"
   ]
  },
  {
   "cell_type": "code",
   "execution_count": 5,
   "metadata": {},
   "outputs": [
    {
     "name": "stdout",
     "output_type": "stream",
     "text": [
      "(15500, 64, 64)\n"
     ]
    },
    {
     "data": {
      "image/png": "[encoded data removed]",
      "text/plain": [
       "<Figure size 432x288 with 1 Axes>"
      ]
     },
     "metadata": {
      "needs_background": "light"
     },
     "output_type": "display_data"
    }
   ],
   "source": [
    "img_data = np.array(img_data_list)\n",
    "img_data = img_data.astype('float32')\n",
    "img_data /= 255\n",
    "print (img_data.shape)\n",
    "plt.imshow( img_data[0])\n",
    "#img_data = img_data.reshape(img_data.shape[0], 32, 32, 1) \n",
    "img_data = img_data.reshape(img_data.shape[0], 64, 64, 1)  #model 1 and 2 and 3\n",
    "#img_data = img_data.reshape(img_data.shape[0], 48, 48, 1)  #model 4"
   ]
  },
  {
   "cell_type": "code",
   "execution_count": 6,
   "metadata": {},
   "outputs": [],
   "source": [
    "labels = np.ones(15500,dtype='int64')\n",
    "\n",
    "labels[0:8000]=0\n",
    "labels[8000:]=1"
   ]
  },
  {
   "cell_type": "code",
   "execution_count": 7,
   "metadata": {},
   "outputs": [],
   "source": [
    "names = ['Normal', 'PNEUMONIA']"
   ]
  },
  {
   "cell_type": "code",
   "execution_count": 8,
   "metadata": {},
   "outputs": [
    {
     "name": "stdout",
     "output_type": "stream",
     "text": [
      "test shape (3100, 64, 64, 1)\n"
     ]
    }
   ],
   "source": [
    "from keras.utils import np_utils\n",
    "from sklearn.utils import shuffle\n",
    "#from sklearn.cross_validation import train_test_split\n",
    "from sklearn.model_selection import train_test_split\n",
    "from sklearn.metrics import confusion_matrix\n",
    "Y = np_utils.to_categorical(labels, 2)\n",
    "\n",
    "#Shuffle the dataset\n",
    "x,y = shuffle(img_data,Y, random_state=2)\n",
    "# Split the dataset\n",
    "x_train, x_test, y_train, y_test = train_test_split(x, y, test_size=0.2, random_state=2)\n",
    "print('test shape', x_test.shape)"
   ]
  },
  {
   "cell_type": "code",
   "execution_count": null,
   "metadata": {},
   "outputs": [],
   "source": [
    "\"\"\"======================= MODEL 1=======================\"\"\""
   ]
  },
  {
   "cell_type": "code",
   "execution_count": 45,
   "metadata": {},
   "outputs": [],
   "source": [
    "model = Sequential()\n",
    "model.add(Conv2D(32, (3, 3), activation='relu', input_shape=(28,28,1)))\n",
    "#model.add(MaxPooling2D(pool_size=(3,3), strides=(2, 2)))\n",
    "\n",
    "#2nd convolution layer\n",
    "#model.add(Conv2D(64, (3, 3), activation='relu'))\n",
    "model.add(Conv2D(16, (5, 5), activation='relu'))\n",
    "#model.add(MaxPooling2D(pool_size=(3,3), strides=(2, 2)))\n",
    "\n",
    "#3rd convolution layer\n",
    "#model.add(Conv2D(32, (3, 3), activation='relu'))\n",
    "model.add(Conv2D(32, (3, 3), activation='relu'))\n",
    "model.add(MaxPooling2D(pool_size=(3,3), strides=(2, 2)))\n",
    "\n",
    "model.add(Conv2D(64, (3, 3), activation='relu'))\n",
    "model.add(MaxPooling2D(pool_size=(3,3), strides=(2, 2)))\n",
    "\n",
    "#model.add(Conv2D(64, (3, 3), activation='relu'))\n",
    "\n",
    "model.add(Flatten())\n",
    "\n",
    "#fully connected neural networks\n",
    "#model.add(Dense(128, activation='relu'))\n",
    "#model.add(Dropout(0.3))\n",
    "model.add(Dense(1024, activation='relu'))\n",
    "model.add(Dropout(0.3))\n",
    "\n",
    "model.add(Dense(2, activation='sigmoid'))"
   ]
  },
  {
   "cell_type": "code",
   "execution_count": 46,
   "metadata": {},
   "outputs": [
    {
     "name": "stdout",
     "output_type": "stream",
     "text": [
      "_________________________________________________________________\n",
      "Layer (type)                 Output Shape              Param #   \n",
      "=================================================================\n",
      "conv2d_29 (Conv2D)           (None, 26, 26, 32)        320       \n",
      "_________________________________________________________________\n",
      "conv2d_30 (Conv2D)           (None, 22, 22, 16)        12816     \n",
      "_________________________________________________________________\n",
      "conv2d_31 (Conv2D)           (None, 20, 20, 32)        4640      \n",
      "_________________________________________________________________\n",
      "max_pooling2d_15 (MaxPooling (None, 9, 9, 32)          0         \n",
      "_________________________________________________________________\n",
      "conv2d_32 (Conv2D)           (None, 7, 7, 64)          18496     \n",
      "_________________________________________________________________\n",
      "max_pooling2d_16 (MaxPooling (None, 3, 3, 64)          0         \n",
      "_________________________________________________________________\n",
      "flatten_8 (Flatten)          (None, 576)               0         \n",
      "_________________________________________________________________\n",
      "dense_16 (Dense)             (None, 1024)              590848    \n",
      "_________________________________________________________________\n",
      "dropout_16 (Dropout)         (None, 1024)              0         \n",
      "_________________________________________________________________\n",
      "dense_17 (Dense)             (None, 2)                 2050      \n",
      "=================================================================\n",
      "Total params: 629,170\n",
      "Trainable params: 629,170\n",
      "Non-trainable params: 0\n",
      "_________________________________________________________________\n"
     ]
    },
    {
     "data": {
      "text/plain": [
       "True"
      ]
     },
     "execution_count": 46,
     "metadata": {},
     "output_type": "execute_result"
    }
   ],
   "source": [
    "model.compile(loss=keras.losses.binary_crossentropy,\n",
    "              optimizer=keras.optimizers.Adadelta(),\n",
    "              metrics=['accuracy'])\n",
    "#print('test shape', x_test.shape)\n",
    "\n",
    "model.summary()\n",
    "model.get_config()\n",
    "model.layers[0].get_config()\n",
    "model.layers[0].input_shape\t\t\t\n",
    "model.layers[0].output_shape\t\t\t\n",
    "model.layers[0].get_weights()\n",
    "np.shape(model.layers[0].get_weights()[0])\n",
    "model.layers[0].trainable"
   ]
  },
  {
   "cell_type": "code",
   "execution_count": 47,
   "metadata": {},
   "outputs": [],
   "source": [
    "model.compile(loss='binary_crossentropy'\n",
    "    , optimizer=keras.optimizers.Adam()\n",
    "    , metrics=['accuracy']\n",
    ")\n",
    "batch_size = 128"
   ]
  },
  {
   "cell_type": "code",
   "execution_count": 49,
   "metadata": {},
   "outputs": [
    {
     "name": "stdout",
     "output_type": "stream",
     "text": [
      "Train on 12400 samples, validate on 3100 samples\n",
      "Epoch 1/10\n",
      "\r",
      "  128/12400 [..............................] - ETA: 16s - loss: 0.3047 - acc: 0.8750"
     ]
    },
    {
     "name": "stderr",
     "output_type": "stream",
     "text": [
      "C:\\Users\\Rajesh Kumar Sharma\\Anaconda3\\lib\\site-packages\\ipykernel_launcher.py:2: UserWarning: The `nb_epoch` argument in `fit` has been renamed `epochs`.\n",
      "  \n"
     ]
    },
    {
     "name": "stdout",
     "output_type": "stream",
     "text": [
      "12400/12400 [==============================] - 22s 2ms/step - loss: 0.3793 - acc: 0.8246 - val_loss: 0.3890 - val_acc: 0.8160\n",
      "Epoch 2/10\n",
      "12400/12400 [==============================] - 24s 2ms/step - loss: 0.3679 - acc: 0.8321 - val_loss: 0.3790 - val_acc: 0.8258\n",
      "Epoch 3/10\n",
      "12400/12400 [==============================] - 24s 2ms/step - loss: 0.3632 - acc: 0.8336 - val_loss: 0.3900 - val_acc: 0.8295\n",
      "Epoch 4/10\n",
      "12400/12400 [==============================] - 25s 2ms/step - loss: 0.3534 - acc: 0.8385 - val_loss: 0.3839 - val_acc: 0.8274\n",
      "Epoch 5/10\n",
      "12400/12400 [==============================] - 25s 2ms/step - loss: 0.3473 - acc: 0.8401 - val_loss: 0.3725 - val_acc: 0.8319\n",
      "Epoch 6/10\n",
      "12400/12400 [==============================] - 25s 2ms/step - loss: 0.3392 - acc: 0.8402 - val_loss: 0.3708 - val_acc: 0.8290\n",
      "Epoch 7/10\n",
      "12400/12400 [==============================] - 24s 2ms/step - loss: 0.3317 - acc: 0.8466 - val_loss: 0.3635 - val_acc: 0.8352\n",
      "Epoch 8/10\n",
      "12400/12400 [==============================] - 24s 2ms/step - loss: 0.3236 - acc: 0.8514 - val_loss: 0.3808 - val_acc: 0.8223\n",
      "Epoch 9/10\n",
      "12400/12400 [==============================] - 25s 2ms/step - loss: 0.3148 - acc: 0.8541 - val_loss: 0.3730 - val_acc: 0.8268\n",
      "Epoch 10/10\n",
      "12400/12400 [==============================] - 25s 2ms/step - loss: 0.3137 - acc: 0.8533 - val_loss: 0.3723 - val_acc: 0.8335\n"
     ]
    }
   ],
   "source": [
    "model.load_weights(\"wts_m8_v1_nd.h5\")\n",
    "hist=model.fit(x_train, y_train, batch_size=batch_size, nb_epoch=10, verbose=1, validation_data=(x_test, y_test))\n",
    "model.save_weights('wts_m8_v1_nd.h5')# 15"
   ]
  },
  {
   "cell_type": "code",
   "execution_count": 51,
   "metadata": {
    "scrolled": false
   },
   "outputs": [
    {
     "name": "stderr",
     "output_type": "stream",
     "text": [
      "C:\\Users\\Rajesh Kumar Sharma\\Anaconda3\\lib\\site-packages\\ipykernel_launcher.py:2: UserWarning: The `nb_epoch` argument in `fit` has been renamed `epochs`.\n",
      "  \n"
     ]
    },
    {
     "name": "stdout",
     "output_type": "stream",
     "text": [
      "Train on 12400 samples, validate on 3100 samples\n",
      "Epoch 1/10\n",
      "12400/12400 [==============================] - 23s 2ms/step - loss: 0.3032 - acc: 0.8606 - val_loss: 0.3809 - val_acc: 0.8323\n",
      "Epoch 2/10\n",
      "12400/12400 [==============================] - 25s 2ms/step - loss: 0.2934 - acc: 0.8646 - val_loss: 0.3990 - val_acc: 0.8234\n",
      "Epoch 3/10\n",
      "12400/12400 [==============================] - 26s 2ms/step - loss: 0.2849 - acc: 0.8671 - val_loss: 0.3817 - val_acc: 0.8229\n",
      "Epoch 4/10\n",
      "12400/12400 [==============================] - 27s 2ms/step - loss: 0.2848 - acc: 0.8675 - val_loss: 0.3963 - val_acc: 0.8285\n",
      "Epoch 5/10\n",
      "12400/12400 [==============================] - 26s 2ms/step - loss: 0.2730 - acc: 0.8742 - val_loss: 0.4045 - val_acc: 0.8244\n",
      "Epoch 6/10\n",
      "12400/12400 [==============================] - 26s 2ms/step - loss: 0.2604 - acc: 0.8830 - val_loss: 0.4133 - val_acc: 0.8203\n",
      "Epoch 7/10\n",
      "12400/12400 [==============================] - 27s 2ms/step - loss: 0.2577 - acc: 0.8816 - val_loss: 0.4127 - val_acc: 0.8177\n",
      "Epoch 8/10\n",
      "12400/12400 [==============================] - 27s 2ms/step - loss: 0.2528 - acc: 0.8853 - val_loss: 0.4154 - val_acc: 0.8181\n",
      "Epoch 9/10\n",
      "12400/12400 [==============================] - 26s 2ms/step - loss: 0.2343 - acc: 0.8946 - val_loss: 0.4279 - val_acc: 0.8113\n",
      "Epoch 10/10\n",
      "12400/12400 [==============================] - 27s 2ms/step - loss: 0.2278 - acc: 0.8986 - val_loss: 0.4468 - val_acc: 0.8150\n"
     ]
    }
   ],
   "source": [
    "model.load_weights(\"wts_m8_v12_nd.h5\")\n",
    "hist=model.fit(x_train, y_train, batch_size=batch_size, nb_epoch=10, verbose=1, validation_data=(x_test, y_test))\n",
    "model.save_weights('wts_m8_v12_nd.h5') #15"
   ]
  },
  {
   "cell_type": "code",
   "execution_count": null,
   "metadata": {},
   "outputs": [],
   "source": [
    "\"\"\"======================= MODEL 2=======================\"\"\""
   ]
  },
  {
   "cell_type": "code",
   "execution_count": 68,
   "metadata": {},
   "outputs": [],
   "source": [
    "#model 2\n",
    "model = Sequential()\n",
    "model.add(Conv2D(32, (3, 3), activation='relu', input_shape=(64,64,1)))\n",
    "model.add(MaxPooling2D(pool_size=(3,3), strides=(2, 2)))\n",
    "\n",
    "#2nd convolution layer\n",
    "#model.add(Conv2D(64, (3, 3), activation='relu'))\n",
    "model.add(Conv2D(16, (3, 3), activation='relu'))\n",
    "#model.add(MaxPooling2D(pool_size=(3,3), strides=(2, 2)))\n",
    "\n",
    "#3rd convolution layer\n",
    "#model.add(Conv2D(32, (3, 3), activation='relu'))\n",
    "model.add(Conv2D(32, (3, 3), activation='relu'))\n",
    "model.add(MaxPooling2D(pool_size=(3,3), strides=(2, 2)))\n",
    "\n",
    "model.add(Conv2D(16, (3, 3), activation='relu'))\n",
    "#model.add(MaxPooling2D(pool_size=(3,3), strides=(2, 2)))\n",
    "\n",
    "model.add(Conv2D(32, (3, 3), activation='relu'))\n",
    "#model.add(MaxPooling2D(pool_size=(3,3), strides=(2, 2)))\n",
    "\n",
    "#model.add(Conv2D(64, (3, 3), activation='relu'))\n",
    "\n",
    "model.add(Flatten())\n",
    "\n",
    "#fully connected neural networks\n",
    "model.add(Dense(128, activation='relu'))\n",
    "model.add(Dropout(0.2))\n",
    "#model.add(Dense(1024, activation='relu'))\n",
    "#model.add(Dropout(0.3))\n",
    "\n",
    "model.add(Dense(2, activation='sigmoid'))"
   ]
  },
  {
   "cell_type": "code",
   "execution_count": 69,
   "metadata": {},
   "outputs": [
    {
     "name": "stdout",
     "output_type": "stream",
     "text": [
      "_________________________________________________________________\n",
      "Layer (type)                 Output Shape              Param #   \n",
      "=================================================================\n",
      "conv2d_19 (Conv2D)           (None, 62, 62, 32)        320       \n",
      "_________________________________________________________________\n",
      "max_pooling2d_7 (MaxPooling2 (None, 30, 30, 32)        0         \n",
      "_________________________________________________________________\n",
      "conv2d_20 (Conv2D)           (None, 28, 28, 16)        4624      \n",
      "_________________________________________________________________\n",
      "conv2d_21 (Conv2D)           (None, 26, 26, 32)        4640      \n",
      "_________________________________________________________________\n",
      "max_pooling2d_8 (MaxPooling2 (None, 12, 12, 32)        0         \n",
      "_________________________________________________________________\n",
      "conv2d_22 (Conv2D)           (None, 10, 10, 16)        4624      \n",
      "_________________________________________________________________\n",
      "conv2d_23 (Conv2D)           (None, 8, 8, 32)          4640      \n",
      "_________________________________________________________________\n",
      "flatten_7 (Flatten)          (None, 2048)              0         \n",
      "_________________________________________________________________\n",
      "dense_15 (Dense)             (None, 128)               262272    \n",
      "_________________________________________________________________\n",
      "dropout_13 (Dropout)         (None, 128)               0         \n",
      "_________________________________________________________________\n",
      "dense_16 (Dense)             (None, 2)                 258       \n",
      "=================================================================\n",
      "Total params: 281,378\n",
      "Trainable params: 281,378\n",
      "Non-trainable params: 0\n",
      "_________________________________________________________________\n"
     ]
    },
    {
     "data": {
      "text/plain": [
       "True"
      ]
     },
     "execution_count": 69,
     "metadata": {},
     "output_type": "execute_result"
    }
   ],
   "source": [
    "model.compile(loss=keras.losses.binary_crossentropy,\n",
    "              optimizer=keras.optimizers.Adadelta(),\n",
    "              metrics=['accuracy'])\n",
    "#print('test shape', x_test.shape)\n",
    "\n",
    "model.summary()\n",
    "model.get_config()\n",
    "model.layers[0].get_config()\n",
    "model.layers[0].input_shape\t\t\t\n",
    "model.layers[0].output_shape\t\t\t\n",
    "model.layers[0].get_weights()\n",
    "np.shape(model.layers[0].get_weights()[0])\n",
    "model.layers[0].trainable"
   ]
  },
  {
   "cell_type": "code",
   "execution_count": 70,
   "metadata": {},
   "outputs": [],
   "source": [
    "model.compile(loss='binary_crossentropy'\n",
    "    , optimizer=keras.optimizers.Adam()\n",
    "    , metrics=['accuracy']\n",
    ")\n",
    "batch_size = 128"
   ]
  },
  {
   "cell_type": "code",
   "execution_count": 27,
   "metadata": {},
   "outputs": [
    {
     "name": "stderr",
     "output_type": "stream",
     "text": [
      "G:\\soft\\Anaconda\\lib\\site-packages\\ipykernel_launcher.py:2: UserWarning: The `nb_epoch` argument in `fit` has been renamed `epochs`.\n",
      "  \n"
     ]
    },
    {
     "name": "stdout",
     "output_type": "stream",
     "text": [
      "Train on 11250 samples, validate on 3750 samples\n",
      "Epoch 1/5\n",
      "11250/11250 [==============================] - 92s 8ms/step - loss: 0.5512 - acc: 0.7147 - val_loss: 0.4847 - val_acc: 0.7745\n",
      "Epoch 2/5\n",
      "11250/11250 [==============================] - 91s 8ms/step - loss: 0.4733 - acc: 0.7753 - val_loss: 0.4516 - val_acc: 0.7921\n",
      "Epoch 3/5\n",
      "11250/11250 [==============================] - 91s 8ms/step - loss: 0.4425 - acc: 0.7869 - val_loss: 0.4498 - val_acc: 0.7897\n",
      "Epoch 4/5\n",
      "11250/11250 [==============================] - 91s 8ms/step - loss: 0.4121 - acc: 0.8073 - val_loss: 0.4143 - val_acc: 0.8119\n",
      "Epoch 5/5\n",
      "11250/11250 [==============================] - 92s 8ms/step - loss: 0.4036 - acc: 0.8116 - val_loss: 0.3991 - val_acc: 0.8199\n"
     ]
    }
   ],
   "source": [
    "#model.load_weights(\"wts_m8_v2_nd.h5\")\n",
    "hist=model.fit(x_train, y_train, batch_size=batch_size, nb_epoch=5, verbose=1, validation_data=(x_test, y_test))\n",
    "model.save_weights('wts_m8_v2_nd.h5')"
   ]
  },
  {
   "cell_type": "code",
   "execution_count": 28,
   "metadata": {},
   "outputs": [
    {
     "name": "stderr",
     "output_type": "stream",
     "text": [
      "G:\\soft\\Anaconda\\lib\\site-packages\\ipykernel_launcher.py:2: UserWarning: The `nb_epoch` argument in `fit` has been renamed `epochs`.\n",
      "  \n"
     ]
    },
    {
     "name": "stdout",
     "output_type": "stream",
     "text": [
      "Train on 11250 samples, validate on 3750 samples\n",
      "Epoch 1/10\n",
      "11250/11250 [==============================] - 91s 8ms/step - loss: 0.3903 - acc: 0.8138 - val_loss: 0.4044 - val_acc: 0.8200\n",
      "Epoch 2/10\n",
      "11250/11250 [==============================] - 90s 8ms/step - loss: 0.3866 - acc: 0.8196 - val_loss: 0.3871 - val_acc: 0.8263\n",
      "Epoch 3/10\n",
      "11250/11250 [==============================] - 92s 8ms/step - loss: 0.3736 - acc: 0.8240 - val_loss: 0.3843 - val_acc: 0.8279\n",
      "Epoch 4/10\n",
      "11250/11250 [==============================] - 92s 8ms/step - loss: 0.3642 - acc: 0.8281 - val_loss: 0.3777 - val_acc: 0.8277\n",
      "Epoch 5/10\n",
      "11250/11250 [==============================] - 91s 8ms/step - loss: 0.3582 - acc: 0.8292 - val_loss: 0.3886 - val_acc: 0.8212\n",
      "Epoch 6/10\n",
      "11250/11250 [==============================] - 91s 8ms/step - loss: 0.3586 - acc: 0.8355 - val_loss: 0.3770 - val_acc: 0.8264\n",
      "Epoch 7/10\n",
      "11250/11250 [==============================] - 92s 8ms/step - loss: 0.3548 - acc: 0.8345 - val_loss: 0.3813 - val_acc: 0.8229\n",
      "Epoch 8/10\n",
      "11250/11250 [==============================] - 91s 8ms/step - loss: 0.3475 - acc: 0.8341 - val_loss: 0.3851 - val_acc: 0.8233\n",
      "Epoch 9/10\n",
      "11250/11250 [==============================] - 94s 8ms/step - loss: 0.3412 - acc: 0.8394 - val_loss: 0.3789 - val_acc: 0.8273\n",
      "Epoch 10/10\n",
      "11250/11250 [==============================] - 92s 8ms/step - loss: 0.3355 - acc: 0.8411 - val_loss: 0.3669 - val_acc: 0.8359\n"
     ]
    }
   ],
   "source": [
    "model.load_weights(\"wts_m8_v2_nd.h5\")\n",
    "hist=model.fit(x_train, y_train, batch_size=batch_size, nb_epoch=10, verbose=1, validation_data=(x_test, y_test))\n",
    "model.save_weights('wts_m8_v2_nd.h5')"
   ]
  },
  {
   "cell_type": "code",
   "execution_count": 73,
   "metadata": {
    "scrolled": false
   },
   "outputs": [
    {
     "name": "stderr",
     "output_type": "stream",
     "text": [
      "G:\\soft\\Anaconda\\lib\\site-packages\\ipykernel_launcher.py:2: UserWarning: The `nb_epoch` argument in `fit` has been renamed `epochs`.\n",
      "  \n"
     ]
    },
    {
     "name": "stdout",
     "output_type": "stream",
     "text": [
      "Train on 240 samples, validate on 60 samples\n",
      "Epoch 1/5\n",
      "240/240 [==============================] - 2s 8ms/step - loss: 0.1546 - acc: 0.9583 - val_loss: 0.5032 - val_acc: 0.8000\n",
      "Epoch 2/5\n",
      "240/240 [==============================] - 2s 8ms/step - loss: 0.1491 - acc: 0.9396 - val_loss: 0.5137 - val_acc: 0.8000\n",
      "Epoch 3/5\n",
      "240/240 [==============================] - 2s 9ms/step - loss: 0.1243 - acc: 0.9563 - val_loss: 0.5057 - val_acc: 0.8167\n",
      "Epoch 4/5\n",
      "240/240 [==============================] - 2s 8ms/step - loss: 0.1038 - acc: 0.9750 - val_loss: 0.5252 - val_acc: 0.8250\n",
      "Epoch 5/5\n",
      "240/240 [==============================] - 2s 8ms/step - loss: 0.0854 - acc: 0.9875 - val_loss: 0.5630 - val_acc: 0.8167\n"
     ]
    }
   ],
   "source": [
    "model.load_weights(\"wts_m8_v2_nd.h5\")\n",
    "hist=model.fit(x_train, y_train, batch_size=batch_size, nb_epoch=5, verbose=1, validation_data=(x_test, y_test))\n",
    "model.save_weights('wts_m8_v2_nd.h5') # 25"
   ]
  },
  {
   "cell_type": "code",
   "execution_count": null,
   "metadata": {},
   "outputs": [],
   "source": [
    "\"\"\"======================= MODEL 4=======================\"\"\""
   ]
  },
  {
   "cell_type": "code",
   "execution_count": 6,
   "metadata": {},
   "outputs": [],
   "source": [
    "#model 3\n",
    "model = Sequential()\n",
    "model.add(Conv2D(32, (3, 3), activation='relu', input_shape=(64,64,1)))\n",
    "model.add(AveragePooling2D(pool_size=(3,3), strides=(2, 2)))\n",
    "\n",
    "#2nd convolution layer\n",
    "#model.add(Conv2D(64, (3, 3), activation='relu'))\n",
    "model.add(Conv2D(16, (3, 3), activation='relu'))\n",
    "#model.add(MaxPooling2D(pool_size=(3,3), strides=(2, 2)))\n",
    "\n",
    "#3rd convolution layer\n",
    "#model.add(Conv2D(32, (3, 3), activation='relu'))\n",
    "model.add(Conv2D(32, (3, 3), activation='relu'))\n",
    "#model.add(MaxPooling2D(pool_size=(3,3), strides=(2, 2)))\n",
    "\n",
    "model.add(Conv2D(16, (3, 3), activation='relu'))\n",
    "#model.add(MaxPooling2D(pool_size=(3,3), strides=(2, 2)))\n",
    "\n",
    "model.add(Conv2D(32, (3, 3), activation='relu'))\n",
    "model.add(AveragePooling2D(pool_size=(3,3), strides=(2, 2)))\n",
    "\n",
    "#model.add(Conv2D(64, (3, 3), activation='relu'))\n",
    "\n",
    "model.add(Flatten())\n",
    "\n",
    "#fully connected neural networks\n",
    "model.add(Dense(128, activation='relu'))\n",
    "model.add(Dropout(0.2))\n",
    "#model.add(Dense(1024, activation='relu'))\n",
    "#model.add(Dropout(0.3))\n",
    "\n",
    "model.add(Dense(2, activation='sigmoid'))"
   ]
  },
  {
   "cell_type": "code",
   "execution_count": 33,
   "metadata": {},
   "outputs": [
    {
     "name": "stdout",
     "output_type": "stream",
     "text": [
      "_________________________________________________________________\n",
      "Layer (type)                 Output Shape              Param #   \n",
      "=================================================================\n",
      "conv2d_28 (Conv2D)           (None, 62, 62, 32)        320       \n",
      "_________________________________________________________________\n",
      "average_pooling2d_1 (Average (None, 30, 30, 32)        0         \n",
      "_________________________________________________________________\n",
      "conv2d_29 (Conv2D)           (None, 28, 28, 16)        4624      \n",
      "_________________________________________________________________\n",
      "conv2d_30 (Conv2D)           (None, 26, 26, 32)        4640      \n",
      "_________________________________________________________________\n",
      "conv2d_31 (Conv2D)           (None, 24, 24, 16)        4624      \n",
      "_________________________________________________________________\n",
      "conv2d_32 (Conv2D)           (None, 22, 22, 32)        4640      \n",
      "_________________________________________________________________\n",
      "average_pooling2d_2 (Average (None, 10, 10, 32)        0         \n",
      "_________________________________________________________________\n",
      "flatten_7 (Flatten)          (None, 3200)              0         \n",
      "_________________________________________________________________\n",
      "dense_12 (Dense)             (None, 128)               409728    \n",
      "_________________________________________________________________\n",
      "dropout_7 (Dropout)          (None, 128)               0         \n",
      "_________________________________________________________________\n",
      "dense_13 (Dense)             (None, 2)                 258       \n",
      "=================================================================\n",
      "Total params: 428,834\n",
      "Trainable params: 428,834\n",
      "Non-trainable params: 0\n",
      "_________________________________________________________________\n"
     ]
    },
    {
     "data": {
      "text/plain": [
       "True"
      ]
     },
     "execution_count": 33,
     "metadata": {},
     "output_type": "execute_result"
    }
   ],
   "source": [
    "model.compile(loss=keras.losses.binary_crossentropy,\n",
    "              optimizer=keras.optimizers.Adadelta(),\n",
    "              metrics=['accuracy'])\n",
    "#print('test shape', x_test.shape)\n",
    "\n",
    "model.summary()\n",
    "model.get_config()\n",
    "model.layers[0].get_config()\n",
    "model.layers[0].input_shape\t\t\t\n",
    "model.layers[0].output_shape\t\t\t\n",
    "model.layers[0].get_weights()\n",
    "np.shape(model.layers[0].get_weights()[0])\n",
    "model.layers[0].trainable"
   ]
  },
  {
   "cell_type": "code",
   "execution_count": 7,
   "metadata": {},
   "outputs": [],
   "source": [
    "model.compile(loss='binary_crossentropy'\n",
    "    , optimizer=keras.optimizers.Adam()\n",
    "    , metrics=['accuracy']\n",
    ")\n",
    "batch_size = 128"
   ]
  },
  {
   "cell_type": "code",
   "execution_count": 37,
   "metadata": {
    "scrolled": false
   },
   "outputs": [
    {
     "name": "stderr",
     "output_type": "stream",
     "text": [
      "G:\\soft\\Anaconda\\lib\\site-packages\\ipykernel_launcher.py:2: UserWarning: The `nb_epoch` argument in `fit` has been renamed `epochs`.\n",
      "  \n"
     ]
    },
    {
     "name": "stdout",
     "output_type": "stream",
     "text": [
      "Train on 11250 samples, validate on 3750 samples\n",
      "Epoch 1/10\n",
      "11250/11250 [==============================] - 107s 10ms/step - loss: 0.3661 - acc: 0.8289 - val_loss: 0.3851 - val_acc: 0.8221\n",
      "Epoch 2/10\n",
      "11250/11250 [==============================] - 108s 10ms/step - loss: 0.3682 - acc: 0.8269 - val_loss: 0.3827 - val_acc: 0.8276\n",
      "Epoch 3/10\n",
      "11250/11250 [==============================] - 114s 10ms/step - loss: 0.3565 - acc: 0.8340 - val_loss: 0.3799 - val_acc: 0.8311\n",
      "Epoch 4/10\n",
      "11250/11250 [==============================] - 107s 10ms/step - loss: 0.3579 - acc: 0.8301 - val_loss: 0.3834 - val_acc: 0.8297\n",
      "Epoch 5/10\n",
      "11250/11250 [==============================] - 107s 9ms/step - loss: 0.3504 - acc: 0.8362 - val_loss: 0.3845 - val_acc: 0.8284\n",
      "Epoch 6/10\n",
      "11250/11250 [==============================] - 106s 9ms/step - loss: 0.3498 - acc: 0.8381 - val_loss: 0.3884 - val_acc: 0.8261\n",
      "Epoch 7/10\n",
      "11250/11250 [==============================] - 107s 9ms/step - loss: 0.3423 - acc: 0.8415 - val_loss: 0.3778 - val_acc: 0.8324\n",
      "Epoch 8/10\n",
      "11250/11250 [==============================] - 107s 9ms/step - loss: 0.3396 - acc: 0.8426 - val_loss: 0.3795 - val_acc: 0.8323\n",
      "Epoch 9/10\n",
      "11250/11250 [==============================] - 106s 9ms/step - loss: 0.3335 - acc: 0.8456 - val_loss: 0.3829 - val_acc: 0.8249\n",
      "Epoch 10/10\n",
      "11250/11250 [==============================] - 108s 10ms/step - loss: 0.3292 - acc: 0.8482 - val_loss: 0.3805 - val_acc: 0.8321\n"
     ]
    }
   ],
   "source": [
    "model.load_weights(\"wts_m8_v4_nd.h5\")\n",
    "hist=model.fit(x_train, y_train, batch_size=batch_size, nb_epoch=10, verbose=1, validation_data=(x_test, y_test))\n",
    "model.save_weights('wts_m8_v4_nd.h5') # epochs 0"
   ]
  },
  {
   "cell_type": "code",
   "execution_count": null,
   "metadata": {},
   "outputs": [],
   "source": [
    "\"\"\"======================= MODEL 3=======================\"\"\""
   ]
  },
  {
   "cell_type": "code",
   "execution_count": 34,
   "metadata": {},
   "outputs": [],
   "source": [
    "model = Sequential()\n",
    "model.add(Conv2D(128, (5, 5), activation='relu', input_shape=(48,48,1)))\n",
    "model.add(MaxPooling2D(pool_size=(5,5), strides=(2, 2)))\n",
    "\n",
    "#2nd convolution layer\n",
    "#model.add(Conv2D(64, (3, 3), activation='relu'))\n",
    "model.add(Conv2D(64, (3, 3), activation='relu'))\n",
    "model.add(MaxPooling2D(pool_size=(3,3), strides=(2, 2)))\n",
    "\n",
    "#3rd convolution layer\n",
    "#model.add(Conv2D(32, (3, 3), activation='relu'))\n",
    "model.add(Conv2D(32, (3, 3), activation='relu'))\n",
    "model.add(MaxPooling2D(pool_size=(3,3), strides=(2, 2)))\n",
    "\n",
    "model.add(Flatten())\n",
    "\n",
    "#fully connected neural networks\n",
    "model.add(Dense(512, activation='relu'))\n",
    "model.add(Dropout(0.3))\n",
    "model.add(Dense(512, activation='relu'))\n",
    "model.add(Dropout(0.3))\n",
    "\n",
    "model.add(Dense(2, activation='sigmoid'))"
   ]
  },
  {
   "cell_type": "code",
   "execution_count": 35,
   "metadata": {},
   "outputs": [
    {
     "name": "stdout",
     "output_type": "stream",
     "text": [
      "_________________________________________________________________\n",
      "Layer (type)                 Output Shape              Param #   \n",
      "=================================================================\n",
      "conv2d_10 (Conv2D)           (None, 44, 44, 128)       3328      \n",
      "_________________________________________________________________\n",
      "max_pooling2d_4 (MaxPooling2 (None, 20, 20, 128)       0         \n",
      "_________________________________________________________________\n",
      "conv2d_11 (Conv2D)           (None, 18, 18, 64)        73792     \n",
      "_________________________________________________________________\n",
      "max_pooling2d_5 (MaxPooling2 (None, 8, 8, 64)          0         \n",
      "_________________________________________________________________\n",
      "conv2d_12 (Conv2D)           (None, 6, 6, 32)          18464     \n",
      "_________________________________________________________________\n",
      "max_pooling2d_6 (MaxPooling2 (None, 2, 2, 32)          0         \n",
      "_________________________________________________________________\n",
      "flatten_4 (Flatten)          (None, 128)               0         \n",
      "_________________________________________________________________\n",
      "dense_8 (Dense)              (None, 512)               66048     \n",
      "_________________________________________________________________\n",
      "dropout_7 (Dropout)          (None, 512)               0         \n",
      "_________________________________________________________________\n",
      "dense_9 (Dense)              (None, 512)               262656    \n",
      "_________________________________________________________________\n",
      "dropout_8 (Dropout)          (None, 512)               0         \n",
      "_________________________________________________________________\n",
      "dense_10 (Dense)             (None, 2)                 1026      \n",
      "=================================================================\n",
      "Total params: 425,314\n",
      "Trainable params: 425,314\n",
      "Non-trainable params: 0\n",
      "_________________________________________________________________\n"
     ]
    },
    {
     "data": {
      "text/plain": [
       "True"
      ]
     },
     "execution_count": 35,
     "metadata": {},
     "output_type": "execute_result"
    }
   ],
   "source": [
    "\"\"\"model.compile(loss=keras.losses.binary_crossentropy,\n",
    "              optimizer=keras.optimizers.Adadelta(),\n",
    "              metrics=['accuracy'])\n",
    "#print('test shape', x_test.shape)\"\"\"\n",
    "\n",
    "model.summary()\n",
    "model.get_config()\n",
    "model.layers[0].get_config()\n",
    "model.layers[0].input_shape\t\t\t\n",
    "model.layers[0].output_shape\t\t\t\n",
    "model.layers[0].get_weights()\n",
    "np.shape(model.layers[0].get_weights()[0])\n",
    "model.layers[0].trainable"
   ]
  },
  {
   "cell_type": "code",
   "execution_count": 36,
   "metadata": {},
   "outputs": [],
   "source": [
    "model.compile(loss='binary_crossentropy'\n",
    "    , optimizer=keras.optimizers.Adam()\n",
    "    , metrics=['accuracy']\n",
    ")\n",
    "batch_size = 128"
   ]
  },
  {
   "cell_type": "code",
   "execution_count": 42,
   "metadata": {
    "scrolled": false
   },
   "outputs": [
    {
     "name": "stderr",
     "output_type": "stream",
     "text": [
      "G:\\soft\\Anaconda\\lib\\site-packages\\ipykernel_launcher.py:2: UserWarning: The `nb_epoch` argument in `fit` has been renamed `epochs`.\n",
      "  \n"
     ]
    },
    {
     "name": "stdout",
     "output_type": "stream",
     "text": [
      "Train on 240 samples, validate on 60 samples\n",
      "Epoch 1/5\n",
      "240/240 [==============================] - 4s 15ms/step - loss: 0.0651 - acc: 0.9750 - val_loss: 0.5323 - val_acc: 0.8500\n",
      "Epoch 2/5\n",
      "240/240 [==============================] - 3s 15ms/step - loss: 0.0588 - acc: 0.9917 - val_loss: 0.5814 - val_acc: 0.8333\n",
      "Epoch 3/5\n",
      "240/240 [==============================] - 4s 15ms/step - loss: 0.0391 - acc: 0.9917 - val_loss: 0.5363 - val_acc: 0.8500\n",
      "Epoch 4/5\n",
      "240/240 [==============================] - 4s 16ms/step - loss: 0.0326 - acc: 0.9917 - val_loss: 0.5669 - val_acc: 0.8333\n",
      "Epoch 5/5\n",
      "240/240 [==============================] - 4s 18ms/step - loss: 0.0289 - acc: 0.9958 - val_loss: 0.6156 - val_acc: 0.8500\n"
     ]
    }
   ],
   "source": [
    "model.load_weights(\"wts_m8_v3_nd.h5\")\n",
    "hist=model.fit(x_train, y_train, batch_size=batch_size, nb_epoch=5, verbose=1, validation_data=(x_test, y_test))\n",
    "model.save_weights('wts_m8_v3_nd.h5') # epochs 65"
   ]
  },
  {
   "cell_type": "code",
   "execution_count": 12,
   "metadata": {},
   "outputs": [
    {
     "data": {
      "text/plain": [
       "'======================= MODEL 5======================='"
      ]
     },
     "execution_count": 12,
     "metadata": {},
     "output_type": "execute_result"
    }
   ],
   "source": [
    "\"\"\"======================= MODEL 5=======================\n",
    "overfitting badly \"\"\""
   ]
  },
  {
   "cell_type": "code",
   "execution_count": 45,
   "metadata": {},
   "outputs": [],
   "source": [
    "model = Sequential()\n",
    "model.add(Conv2D(input_shape=(48,48,1), filters=16, kernel_size=(3,3)))\n",
    "model.add(Activation('relu'))\n",
    "model.add(Conv2D(filters=96, kernel_size=(3,3), strides=2))\n",
    "model.add(Activation('relu'))\n",
    "model.add(Dropout(0.3))\n",
    "#model.add(Conv2D(filters=192, kernel_size=(3,3)))\n",
    "#model.add(Activation('relu'))\n",
    "model.add(Conv2D(filters=128, kernel_size=(3,3), strides=2))\n",
    "model.add(Activation('relu'))\n",
    "#model.add(Dropout(0.5))\n",
    "model.add(Flatten())\n",
    "model.add(BatchNormalization())\n",
    "model.add(Dense(128))\n",
    "model.add(Activation('relu'))\n",
    "model.add(Dropout(0.3))\n",
    "model.add(Dense(2, activation=\"softmax\"))\n",
    "model.compile(loss='categorical_crossentropy', optimizer='adam', metrics=['accuracy'])"
   ]
  },
  {
   "cell_type": "code",
   "execution_count": 46,
   "metadata": {},
   "outputs": [
    {
     "name": "stdout",
     "output_type": "stream",
     "text": [
      "_________________________________________________________________\n",
      "Layer (type)                 Output Shape              Param #   \n",
      "=================================================================\n",
      "conv2d_13 (Conv2D)           (None, 46, 46, 16)        160       \n",
      "_________________________________________________________________\n",
      "activation_9 (Activation)    (None, 46, 46, 16)        0         \n",
      "_________________________________________________________________\n",
      "conv2d_14 (Conv2D)           (None, 22, 22, 96)        13920     \n",
      "_________________________________________________________________\n",
      "activation_10 (Activation)   (None, 22, 22, 96)        0         \n",
      "_________________________________________________________________\n",
      "dropout_9 (Dropout)          (None, 22, 22, 96)        0         \n",
      "_________________________________________________________________\n",
      "conv2d_15 (Conv2D)           (None, 10, 10, 128)       110720    \n",
      "_________________________________________________________________\n",
      "activation_11 (Activation)   (None, 10, 10, 128)       0         \n",
      "_________________________________________________________________\n",
      "flatten_5 (Flatten)          (None, 12800)             0         \n",
      "_________________________________________________________________\n",
      "batch_normalization_3 (Batch (None, 12800)             51200     \n",
      "_________________________________________________________________\n",
      "dense_11 (Dense)             (None, 128)               1638528   \n",
      "_________________________________________________________________\n",
      "activation_12 (Activation)   (None, 128)               0         \n",
      "_________________________________________________________________\n",
      "dropout_10 (Dropout)         (None, 128)               0         \n",
      "_________________________________________________________________\n",
      "dense_12 (Dense)             (None, 2)                 258       \n",
      "=================================================================\n",
      "Total params: 1,814,786\n",
      "Trainable params: 1,789,186\n",
      "Non-trainable params: 25,600\n",
      "_________________________________________________________________\n"
     ]
    },
    {
     "data": {
      "text/plain": [
       "True"
      ]
     },
     "execution_count": 46,
     "metadata": {},
     "output_type": "execute_result"
    }
   ],
   "source": [
    "model.summary()\n",
    "model.get_config()\n",
    "model.layers[0].get_config()\n",
    "model.layers[0].input_shape\t\t\t\n",
    "model.layers[0].output_shape\t\t\t\n",
    "model.layers[0].get_weights()\n",
    "np.shape(model.layers[0].get_weights()[0])\n",
    "model.layers[0].trainable"
   ]
  },
  {
   "cell_type": "code",
   "execution_count": 47,
   "metadata": {
    "scrolled": true
   },
   "outputs": [
    {
     "name": "stderr",
     "output_type": "stream",
     "text": [
      "G:\\soft\\Anaconda\\lib\\site-packages\\ipykernel_launcher.py:3: UserWarning: The `nb_epoch` argument in `fit` has been renamed `epochs`.\n",
      "  This is separate from the ipykernel package so we can avoid doing imports until\n"
     ]
    },
    {
     "name": "stdout",
     "output_type": "stream",
     "text": [
      "Train on 240 samples, validate on 60 samples\n",
      "Epoch 1/10\n",
      "240/240 [==============================] - 3s 13ms/step - loss: 0.7221 - acc: 0.7292 - val_loss: 0.6064 - val_acc: 0.7500\n",
      "Epoch 2/10\n",
      "240/240 [==============================] - 2s 8ms/step - loss: 0.3581 - acc: 0.8458 - val_loss: 0.4924 - val_acc: 0.7833\n",
      "Epoch 3/10\n",
      "240/240 [==============================] - 2s 7ms/step - loss: 0.2977 - acc: 0.8750 - val_loss: 0.4815 - val_acc: 0.7833\n",
      "Epoch 4/10\n",
      "240/240 [==============================] - 2s 7ms/step - loss: 0.2612 - acc: 0.8917 - val_loss: 0.4910 - val_acc: 0.7667\n",
      "Epoch 5/10\n",
      "240/240 [==============================] - 2s 7ms/step - loss: 0.2101 - acc: 0.9250 - val_loss: 0.5188 - val_acc: 0.7833\n",
      "Epoch 6/10\n",
      "240/240 [==============================] - 2s 7ms/step - loss: 0.1500 - acc: 0.9583 - val_loss: 0.5922 - val_acc: 0.7667\n",
      "Epoch 7/10\n",
      "240/240 [==============================] - 2s 7ms/step - loss: 0.1322 - acc: 0.9458 - val_loss: 0.7058 - val_acc: 0.7833\n",
      "Epoch 8/10\n",
      "240/240 [==============================] - 2s 7ms/step - loss: 0.0958 - acc: 0.9708 - val_loss: 0.8433 - val_acc: 0.7500\n",
      "Epoch 9/10\n",
      "240/240 [==============================] - 2s 7ms/step - loss: 0.0711 - acc: 0.9833 - val_loss: 1.0157 - val_acc: 0.7333\n",
      "Epoch 10/10\n",
      "240/240 [==============================] - 2s 9ms/step - loss: 0.0521 - acc: 1.0000 - val_loss: 1.2317 - val_acc: 0.7333\n"
     ]
    }
   ],
   "source": [
    "batch_size = 256\n",
    "model.load_weights(\"wts_m8_v5_nd.h5\")\n",
    "hist=model.fit(x_train, y_train, batch_size=batch_size, nb_epoch=10, verbose=1, validation_data=(x_test, y_test))\n",
    "model.save_weights('wts_m8_v5_nd.h5') # epochs 5"
   ]
  },
  {
   "cell_type": "code",
   "execution_count": 36,
   "metadata": {},
   "outputs": [
    {
     "data": {
      "text/plain": [
       "'======================= MODEL 6======================='"
      ]
     },
     "execution_count": 36,
     "metadata": {},
     "output_type": "execute_result"
    }
   ],
   "source": [
    "\"\"\"======================= MODEL 6=======================\n",
    "\n",
    "\"\"\""
   ]
  },
  {
   "cell_type": "code",
   "execution_count": 48,
   "metadata": {},
   "outputs": [],
   "source": [
    "model = Sequential()\n",
    "model.add(Conv2D(input_shape=(48,48,1), filters=96, kernel_size=(3,3)))\n",
    "model.add(Activation('relu'))\n",
    "model.add(Conv2D(filters=32, kernel_size=(3,3), strides=2))\n",
    "model.add(Activation('relu'))\n",
    "model.add(Dropout(0.3))\n",
    "#model.add(Conv2D(filters=192, kernel_size=(3,3)))\n",
    "#model.add(Activation('relu'))\n",
    "model.add(Conv2D(filters=48, kernel_size=(3,3), strides=2))\n",
    "model.add(Activation('relu'))\n",
    "#model.add(Dropout(0.5))\n",
    "model.add(Flatten())\n",
    "model.add(BatchNormalization())\n",
    "model.add(Dense(128))\n",
    "model.add(Activation('relu'))\n",
    "model.add(Dropout(0.3))\n",
    "model.add(Dense(2, activation=\"softmax\"))\n",
    "model.compile(loss='categorical_crossentropy', optimizer='adam', metrics=['accuracy'])"
   ]
  },
  {
   "cell_type": "code",
   "execution_count": 49,
   "metadata": {},
   "outputs": [
    {
     "name": "stdout",
     "output_type": "stream",
     "text": [
      "_________________________________________________________________\n",
      "Layer (type)                 Output Shape              Param #   \n",
      "=================================================================\n",
      "conv2d_16 (Conv2D)           (None, 46, 46, 96)        960       \n",
      "_________________________________________________________________\n",
      "activation_13 (Activation)   (None, 46, 46, 96)        0         \n",
      "_________________________________________________________________\n",
      "conv2d_17 (Conv2D)           (None, 22, 22, 32)        27680     \n",
      "_________________________________________________________________\n",
      "activation_14 (Activation)   (None, 22, 22, 32)        0         \n",
      "_________________________________________________________________\n",
      "dropout_11 (Dropout)         (None, 22, 22, 32)        0         \n",
      "_________________________________________________________________\n",
      "conv2d_18 (Conv2D)           (None, 10, 10, 48)        13872     \n",
      "_________________________________________________________________\n",
      "activation_15 (Activation)   (None, 10, 10, 48)        0         \n",
      "_________________________________________________________________\n",
      "flatten_6 (Flatten)          (None, 4800)              0         \n",
      "_________________________________________________________________\n",
      "batch_normalization_4 (Batch (None, 4800)              19200     \n",
      "_________________________________________________________________\n",
      "dense_13 (Dense)             (None, 128)               614528    \n",
      "_________________________________________________________________\n",
      "activation_16 (Activation)   (None, 128)               0         \n",
      "_________________________________________________________________\n",
      "dropout_12 (Dropout)         (None, 128)               0         \n",
      "_________________________________________________________________\n",
      "dense_14 (Dense)             (None, 2)                 258       \n",
      "=================================================================\n",
      "Total params: 676,498\n",
      "Trainable params: 666,898\n",
      "Non-trainable params: 9,600\n",
      "_________________________________________________________________\n"
     ]
    },
    {
     "data": {
      "text/plain": [
       "True"
      ]
     },
     "execution_count": 49,
     "metadata": {},
     "output_type": "execute_result"
    }
   ],
   "source": [
    "model.summary()\n",
    "model.get_config()\n",
    "model.layers[0].get_config()\n",
    "model.layers[0].input_shape\t\t\t\n",
    "model.layers[0].output_shape\t\t\t\n",
    "model.layers[0].get_weights()\n",
    "np.shape(model.layers[0].get_weights()[0])\n",
    "model.layers[0].trainable"
   ]
  },
  {
   "cell_type": "code",
   "execution_count": 56,
   "metadata": {
    "scrolled": false
   },
   "outputs": [
    {
     "name": "stderr",
     "output_type": "stream",
     "text": [
      "G:\\soft\\Anaconda\\lib\\site-packages\\ipykernel_launcher.py:3: UserWarning: The `nb_epoch` argument in `fit` has been renamed `epochs`.\n",
      "  This is separate from the ipykernel package so we can avoid doing imports until\n"
     ]
    },
    {
     "name": "stdout",
     "output_type": "stream",
     "text": [
      "Train on 240 samples, validate on 60 samples\n",
      "Epoch 1/3\n",
      "240/240 [==============================] - 3s 11ms/step - loss: 0.0241 - acc: 0.9958 - val_loss: 0.6367 - val_acc: 0.8167\n",
      "Epoch 2/3\n",
      "240/240 [==============================] - 2s 10ms/step - loss: 0.0268 - acc: 0.9917 - val_loss: 0.6622 - val_acc: 0.8167\n",
      "Epoch 3/3\n",
      "240/240 [==============================] - 2s 9ms/step - loss: 0.0419 - acc: 0.9833 - val_loss: 0.6417 - val_acc: 0.8333\n"
     ]
    }
   ],
   "source": [
    "batch_size = 256\n",
    "model.load_weights(\"wts_m8_v6_nd.h5\")\n",
    "hist=model.fit(x_train, y_train, batch_size=batch_size, nb_epoch=3, verbose=1, validation_data=(x_test, y_test))\n",
    "model.save_weights('wts_m8_v6_nd.h5') #epochs 15"
   ]
  },
  {
   "cell_type": "code",
   "execution_count": 20,
   "metadata": {},
   "outputs": [
    {
     "name": "stderr",
     "output_type": "stream",
     "text": [
      "G:\\soft\\Anaconda\\lib\\site-packages\\ipykernel_launcher.py:29: DeprecationWarning: Both axis > a.ndim and axis < -a.ndim - 1 are deprecated and will raise an AxisError in the future.\n"
     ]
    },
    {
     "name": "stdout",
     "output_type": "stream",
     "text": [
      "prediction tp:\n",
      " 76 tn:\n",
      " 158\n",
      "total: 234\n"
     ]
    }
   ],
   "source": [
    "from keras import backend as K\n",
    "num_channel=1\n",
    "model.load_weights(\"wts_m8_v1_nd.h5\")\n",
    "data_path = 'F:/intern/chest_xray/test/NORMAL/'\n",
    "img_list=os.listdir('F:/intern/chest_xray/test/NORMAL/')\n",
    "    #print ('Loaded the images of dataset-'+'{}\\n'.format(dataset))\n",
    "tp = 0\n",
    "fp = 0\n",
    "tn = 0\n",
    "fn = 0\n",
    "total = 0\n",
    "for img in img_list:\n",
    "    test_image=cv2.imread(data_path + '/'+ img )\n",
    "# Testing a new image\n",
    "#test_image = cv2.imread(NORMAL2-IM-1440-0001.jpeg')\n",
    "    test_image=cv2.cvtColor(test_image, cv2.COLOR_BGR2GRAY)\n",
    "    test_image=cv2.resize(test_image,(64,64))\n",
    "    test_image = np.array(test_image)\n",
    "    test_image = test_image.astype('float32')\n",
    "    test_image /= 255\n",
    "        #print (test_image.shape)\n",
    "   \n",
    "    if num_channel==1:\n",
    "        if K.image_dim_ordering()=='th':\n",
    "            test_image= np.expand_dims(test_image, axis=0)\n",
    "            test_image= np.expand_dims(test_image, axis=0)\n",
    "                #print (test_image.shape)\n",
    "        else:\n",
    "            test_image= np.expand_dims(test_image, axis=3) \n",
    "            test_image= np.expand_dims(test_image, axis=0)\n",
    "                #print (test_image.shape)\n",
    "\t\t\n",
    "    else:\n",
    "        if K.image_dim_ordering()=='th':\n",
    "            test_image=np.rollaxis(test_image,2,0)\n",
    "            test_image= np.expand_dims(test_image, axis=0)\n",
    "                #print (test_image.shape)\n",
    "        else:\n",
    "            test_image= np.expand_dims(test_image, axis=0)\n",
    "                #print (test_image.shape)\n",
    "\t\t\n",
    "# Predicting the test image\n",
    "    \n",
    "    prediction = model.predict(test_image)\n",
    "    #print('Prediction Score:\\n',prediction[0])\n",
    "    #print(model.predict_classes(test_image))\n",
    "    if prediction[0][0]>prediction[0][1]:\n",
    "        tn = tn + 1\n",
    "        #print(names[0])\n",
    "        \n",
    "    else :\n",
    "        tp = tp + 1\n",
    "    total = total+1\n",
    "print('prediction tp:\\n', tp,\"tn:\\n\",tn)\n",
    "print(\"total:\", total)"
   ]
  },
  {
   "cell_type": "code",
   "execution_count": 22,
   "metadata": {},
   "outputs": [],
   "source": [
    "model = Sequential()\n",
    "model.add(Conv2D(16, (3, 3), activation='relu', input_shape=(28,28,1)))\n",
    "#model.add(MaxPooling2D(pool_size=(3,3), strides=(2, 2)))\n",
    "model.add(BatchNormalization())\n",
    "\n",
    "#2nd convolution layer\n",
    "#model.add(Conv2D(64, (3, 3), activation='relu'))\n",
    "model.add(Conv2D(16, (3, 3), activation='relu'))\n",
    "model.add(BatchNormalization())\n",
    "model.add(MaxPooling2D(pool_size=(3,3), strides=(2, 2)))\n",
    "model.add(Dropout(0.2))\n",
    "\n",
    "#3rd convolution layer\n",
    "#model.add(Conv2D(32, (3, 3), activation='relu'))\n",
    "model.add(Conv2D(32, (3, 3), activation='relu'))\n",
    "model.add(BatchNormalization())\n",
    "#model.add(MaxPooling2D(pool_size=(3,3), strides=(2, 2)))\n",
    "\n",
    "model.add(Conv2D(64, (3, 3), activation='relu'))\n",
    "model.add(BatchNormalization())\n",
    "model.add(MaxPooling2D(pool_size=(3,3), strides=(2, 2)))\n",
    "model.add(Dropout(0.2))\n",
    "\n",
    "#model.add(Conv2D(64, (3, 3), activation='relu'))\n",
    "\n",
    "model.add(Flatten())\n",
    "\n",
    "#fully connected neural networks\n",
    "model.add(Dense(512, activation='relu'))\n",
    "model.add(BatchNormalization())\n",
    "model.add(Dropout(0.2))\n",
    "#model.add(Dense(1024, activation='relu'))\n",
    "#model.add(Dropout(0.3))\n",
    "\n",
    "model.add(Dense(2, activation='sigmoid'))"
   ]
  },
  {
   "cell_type": "code",
   "execution_count": 23,
   "metadata": {},
   "outputs": [
    {
     "name": "stdout",
     "output_type": "stream",
     "text": [
      "_________________________________________________________________\n",
      "Layer (type)                 Output Shape              Param #   \n",
      "=================================================================\n",
      "conv2d_11 (Conv2D)           (None, 26, 26, 16)        160       \n",
      "_________________________________________________________________\n",
      "batch_normalization_1 (Batch (None, 26, 26, 16)        64        \n",
      "_________________________________________________________________\n",
      "conv2d_12 (Conv2D)           (None, 24, 24, 16)        2320      \n",
      "_________________________________________________________________\n",
      "batch_normalization_2 (Batch (None, 24, 24, 16)        64        \n",
      "_________________________________________________________________\n",
      "max_pooling2d_5 (MaxPooling2 (None, 11, 11, 16)        0         \n",
      "_________________________________________________________________\n",
      "dropout_3 (Dropout)          (None, 11, 11, 16)        0         \n",
      "_________________________________________________________________\n",
      "conv2d_13 (Conv2D)           (None, 9, 9, 32)          4640      \n",
      "_________________________________________________________________\n",
      "batch_normalization_3 (Batch (None, 9, 9, 32)          128       \n",
      "_________________________________________________________________\n",
      "conv2d_14 (Conv2D)           (None, 7, 7, 64)          18496     \n",
      "_________________________________________________________________\n",
      "batch_normalization_4 (Batch (None, 7, 7, 64)          256       \n",
      "_________________________________________________________________\n",
      "max_pooling2d_6 (MaxPooling2 (None, 3, 3, 64)          0         \n",
      "_________________________________________________________________\n",
      "dropout_4 (Dropout)          (None, 3, 3, 64)          0         \n",
      "_________________________________________________________________\n",
      "flatten_3 (Flatten)          (None, 576)               0         \n",
      "_________________________________________________________________\n",
      "dense_4 (Dense)              (None, 512)               295424    \n",
      "_________________________________________________________________\n",
      "batch_normalization_5 (Batch (None, 512)               2048      \n",
      "_________________________________________________________________\n",
      "dropout_5 (Dropout)          (None, 512)               0         \n",
      "_________________________________________________________________\n",
      "dense_5 (Dense)              (None, 2)                 1026      \n",
      "=================================================================\n",
      "Total params: 324,626\n",
      "Trainable params: 323,346\n",
      "Non-trainable params: 1,280\n",
      "_________________________________________________________________\n"
     ]
    },
    {
     "data": {
      "text/plain": [
       "True"
      ]
     },
     "execution_count": 23,
     "metadata": {},
     "output_type": "execute_result"
    }
   ],
   "source": [
    "model.summary()\n",
    "model.get_config()\n",
    "model.layers[0].get_config()\n",
    "model.layers[0].input_shape\t\t\t\n",
    "model.layers[0].output_shape\t\t\t\n",
    "model.layers[0].get_weights()\n",
    "np.shape(model.layers[0].get_weights()[0])\n",
    "model.layers[0].trainable"
   ]
  },
  {
   "cell_type": "code",
   "execution_count": 24,
   "metadata": {},
   "outputs": [],
   "source": [
    "model.compile(loss='binary_crossentropy'\n",
    "    , optimizer=keras.optimizers.Adam()\n",
    "    , metrics=['accuracy']\n",
    ")"
   ]
  },
  {
   "cell_type": "code",
   "execution_count": 27,
   "metadata": {
    "scrolled": false
   },
   "outputs": [
    {
     "name": "stderr",
     "output_type": "stream",
     "text": [
      "C:\\Users\\Rajesh Kumar Sharma\\Anaconda3\\lib\\site-packages\\ipykernel_launcher.py:3: UserWarning: The `nb_epoch` argument in `fit` has been renamed `epochs`.\n",
      "  This is separate from the ipykernel package so we can avoid doing imports until\n"
     ]
    },
    {
     "name": "stdout",
     "output_type": "stream",
     "text": [
      "Train on 12400 samples, validate on 3100 samples\n",
      "Epoch 1/15\n",
      "12400/12400 [==============================] - 26s 2ms/step - loss: 0.3140 - acc: 0.8542 - val_loss: 0.3917 - val_acc: 0.8163\n",
      "Epoch 2/15\n",
      "12400/12400 [==============================] - 29s 2ms/step - loss: 0.3098 - acc: 0.8602 - val_loss: 0.3661 - val_acc: 0.8265\n",
      "Epoch 3/15\n",
      "12400/12400 [==============================] - 30s 2ms/step - loss: 0.3128 - acc: 0.8582 - val_loss: 0.3898 - val_acc: 0.8273\n",
      "Epoch 4/15\n",
      "12400/12400 [==============================] - 31s 2ms/step - loss: 0.3079 - acc: 0.8606 - val_loss: 0.3670 - val_acc: 0.8300\n",
      "Epoch 5/15\n",
      "12400/12400 [==============================] - 30s 2ms/step - loss: 0.3024 - acc: 0.8617 - val_loss: 0.3808 - val_acc: 0.8279\n",
      "Epoch 6/15\n",
      "12400/12400 [==============================] - 34s 3ms/step - loss: 0.2997 - acc: 0.8603 - val_loss: 0.3791 - val_acc: 0.8260\n",
      "Epoch 7/15\n",
      "12400/12400 [==============================] - 33s 3ms/step - loss: 0.2996 - acc: 0.8634 - val_loss: 0.4040 - val_acc: 0.8102\n",
      "Epoch 8/15\n",
      "12400/12400 [==============================] - 30s 2ms/step - loss: 0.2955 - acc: 0.8640 - val_loss: 0.3761 - val_acc: 0.8182\n",
      "Epoch 9/15\n",
      "12400/12400 [==============================] - 34s 3ms/step - loss: 0.2849 - acc: 0.8676 - val_loss: 0.3669 - val_acc: 0.8289\n",
      "Epoch 10/15\n",
      "12400/12400 [==============================] - 34s 3ms/step - loss: 0.2882 - acc: 0.8682 - val_loss: 0.4184 - val_acc: 0.8065\n",
      "Epoch 11/15\n",
      " 8960/12400 [====================>.........] - ETA: 9s - loss: 0.2788 - acc: 0.8745"
     ]
    },
    {
     "ename": "KeyboardInterrupt",
     "evalue": "",
     "output_type": "error",
     "traceback": [
      "\u001b[1;31m---------------------------------------------------------------------------\u001b[0m",
      "\u001b[1;31mKeyboardInterrupt\u001b[0m                         Traceback (most recent call last)",
      "\u001b[1;32m<ipython-input-27-3097b5f5547d>\u001b[0m in \u001b[0;36m<module>\u001b[1;34m\u001b[0m\n\u001b[0;32m      1\u001b[0m \u001b[0mbatch_size\u001b[0m \u001b[1;33m=\u001b[0m \u001b[1;36m256\u001b[0m\u001b[1;33m\u001b[0m\u001b[1;33m\u001b[0m\u001b[0m\n\u001b[0;32m      2\u001b[0m \u001b[0mmodel\u001b[0m\u001b[1;33m.\u001b[0m\u001b[0mload_weights\u001b[0m\u001b[1;33m(\u001b[0m\u001b[1;34m\"wts_m8_v7_nd.h5\"\u001b[0m\u001b[1;33m)\u001b[0m\u001b[1;33m\u001b[0m\u001b[1;33m\u001b[0m\u001b[0m\n\u001b[1;32m----> 3\u001b[1;33m \u001b[0mhist\u001b[0m\u001b[1;33m=\u001b[0m\u001b[0mmodel\u001b[0m\u001b[1;33m.\u001b[0m\u001b[0mfit\u001b[0m\u001b[1;33m(\u001b[0m\u001b[0mx_train\u001b[0m\u001b[1;33m,\u001b[0m \u001b[0my_train\u001b[0m\u001b[1;33m,\u001b[0m \u001b[0mbatch_size\u001b[0m\u001b[1;33m=\u001b[0m\u001b[0mbatch_size\u001b[0m\u001b[1;33m,\u001b[0m \u001b[0mnb_epoch\u001b[0m\u001b[1;33m=\u001b[0m\u001b[1;36m15\u001b[0m\u001b[1;33m,\u001b[0m \u001b[0mverbose\u001b[0m\u001b[1;33m=\u001b[0m\u001b[1;36m1\u001b[0m\u001b[1;33m,\u001b[0m \u001b[0mvalidation_data\u001b[0m\u001b[1;33m=\u001b[0m\u001b[1;33m(\u001b[0m\u001b[0mx_test\u001b[0m\u001b[1;33m,\u001b[0m \u001b[0my_test\u001b[0m\u001b[1;33m)\u001b[0m\u001b[1;33m)\u001b[0m\u001b[1;33m\u001b[0m\u001b[1;33m\u001b[0m\u001b[0m\n\u001b[0m\u001b[0;32m      4\u001b[0m \u001b[0mmodel\u001b[0m\u001b[1;33m.\u001b[0m\u001b[0msave_weights\u001b[0m\u001b[1;33m(\u001b[0m\u001b[1;34m'wts_m8_v7_nd.h5'\u001b[0m\u001b[1;33m)\u001b[0m \u001b[1;31m#epochs 18\u001b[0m\u001b[1;33m\u001b[0m\u001b[1;33m\u001b[0m\u001b[0m\n",
      "\u001b[1;32m~\\Anaconda3\\lib\\site-packages\\keras\\engine\\training.py\u001b[0m in \u001b[0;36mfit\u001b[1;34m(self, x, y, batch_size, epochs, verbose, callbacks, validation_split, validation_data, shuffle, class_weight, sample_weight, initial_epoch, steps_per_epoch, validation_steps, **kwargs)\u001b[0m\n\u001b[0;32m   1037\u001b[0m                                         \u001b[0minitial_epoch\u001b[0m\u001b[1;33m=\u001b[0m\u001b[0minitial_epoch\u001b[0m\u001b[1;33m,\u001b[0m\u001b[1;33m\u001b[0m\u001b[1;33m\u001b[0m\u001b[0m\n\u001b[0;32m   1038\u001b[0m                                         \u001b[0msteps_per_epoch\u001b[0m\u001b[1;33m=\u001b[0m\u001b[0msteps_per_epoch\u001b[0m\u001b[1;33m,\u001b[0m\u001b[1;33m\u001b[0m\u001b[1;33m\u001b[0m\u001b[0m\n\u001b[1;32m-> 1039\u001b[1;33m                                         validation_steps=validation_steps)\n\u001b[0m\u001b[0;32m   1040\u001b[0m \u001b[1;33m\u001b[0m\u001b[0m\n\u001b[0;32m   1041\u001b[0m     def evaluate(self, x=None, y=None,\n",
      "\u001b[1;32m~\\Anaconda3\\lib\\site-packages\\keras\\engine\\training_arrays.py\u001b[0m in \u001b[0;36mfit_loop\u001b[1;34m(model, f, ins, out_labels, batch_size, epochs, verbose, callbacks, val_f, val_ins, shuffle, callback_metrics, initial_epoch, steps_per_epoch, validation_steps)\u001b[0m\n\u001b[0;32m    197\u001b[0m                     \u001b[0mins_batch\u001b[0m\u001b[1;33m[\u001b[0m\u001b[0mi\u001b[0m\u001b[1;33m]\u001b[0m \u001b[1;33m=\u001b[0m \u001b[0mins_batch\u001b[0m\u001b[1;33m[\u001b[0m\u001b[0mi\u001b[0m\u001b[1;33m]\u001b[0m\u001b[1;33m.\u001b[0m\u001b[0mtoarray\u001b[0m\u001b[1;33m(\u001b[0m\u001b[1;33m)\u001b[0m\u001b[1;33m\u001b[0m\u001b[1;33m\u001b[0m\u001b[0m\n\u001b[0;32m    198\u001b[0m \u001b[1;33m\u001b[0m\u001b[0m\n\u001b[1;32m--> 199\u001b[1;33m                 \u001b[0mouts\u001b[0m \u001b[1;33m=\u001b[0m \u001b[0mf\u001b[0m\u001b[1;33m(\u001b[0m\u001b[0mins_batch\u001b[0m\u001b[1;33m)\u001b[0m\u001b[1;33m\u001b[0m\u001b[1;33m\u001b[0m\u001b[0m\n\u001b[0m\u001b[0;32m    200\u001b[0m                 \u001b[0mouts\u001b[0m \u001b[1;33m=\u001b[0m \u001b[0mto_list\u001b[0m\u001b[1;33m(\u001b[0m\u001b[0mouts\u001b[0m\u001b[1;33m)\u001b[0m\u001b[1;33m\u001b[0m\u001b[1;33m\u001b[0m\u001b[0m\n\u001b[0;32m    201\u001b[0m                 \u001b[1;32mfor\u001b[0m \u001b[0ml\u001b[0m\u001b[1;33m,\u001b[0m \u001b[0mo\u001b[0m \u001b[1;32min\u001b[0m \u001b[0mzip\u001b[0m\u001b[1;33m(\u001b[0m\u001b[0mout_labels\u001b[0m\u001b[1;33m,\u001b[0m \u001b[0mouts\u001b[0m\u001b[1;33m)\u001b[0m\u001b[1;33m:\u001b[0m\u001b[1;33m\u001b[0m\u001b[1;33m\u001b[0m\u001b[0m\n",
      "\u001b[1;32m~\\Anaconda3\\lib\\site-packages\\keras\\backend\\tensorflow_backend.py\u001b[0m in \u001b[0;36m__call__\u001b[1;34m(self, inputs)\u001b[0m\n\u001b[0;32m   2713\u001b[0m                 \u001b[1;32mreturn\u001b[0m \u001b[0mself\u001b[0m\u001b[1;33m.\u001b[0m\u001b[0m_legacy_call\u001b[0m\u001b[1;33m(\u001b[0m\u001b[0minputs\u001b[0m\u001b[1;33m)\u001b[0m\u001b[1;33m\u001b[0m\u001b[1;33m\u001b[0m\u001b[0m\n\u001b[0;32m   2714\u001b[0m \u001b[1;33m\u001b[0m\u001b[0m\n\u001b[1;32m-> 2715\u001b[1;33m             \u001b[1;32mreturn\u001b[0m \u001b[0mself\u001b[0m\u001b[1;33m.\u001b[0m\u001b[0m_call\u001b[0m\u001b[1;33m(\u001b[0m\u001b[0minputs\u001b[0m\u001b[1;33m)\u001b[0m\u001b[1;33m\u001b[0m\u001b[1;33m\u001b[0m\u001b[0m\n\u001b[0m\u001b[0;32m   2716\u001b[0m         \u001b[1;32melse\u001b[0m\u001b[1;33m:\u001b[0m\u001b[1;33m\u001b[0m\u001b[1;33m\u001b[0m\u001b[0m\n\u001b[0;32m   2717\u001b[0m             \u001b[1;32mif\u001b[0m \u001b[0mpy_any\u001b[0m\u001b[1;33m(\u001b[0m\u001b[0mis_tensor\u001b[0m\u001b[1;33m(\u001b[0m\u001b[0mx\u001b[0m\u001b[1;33m)\u001b[0m \u001b[1;32mfor\u001b[0m \u001b[0mx\u001b[0m \u001b[1;32min\u001b[0m \u001b[0minputs\u001b[0m\u001b[1;33m)\u001b[0m\u001b[1;33m:\u001b[0m\u001b[1;33m\u001b[0m\u001b[1;33m\u001b[0m\u001b[0m\n",
      "\u001b[1;32m~\\Anaconda3\\lib\\site-packages\\keras\\backend\\tensorflow_backend.py\u001b[0m in \u001b[0;36m_call\u001b[1;34m(self, inputs)\u001b[0m\n\u001b[0;32m   2673\u001b[0m             \u001b[0mfetched\u001b[0m \u001b[1;33m=\u001b[0m \u001b[0mself\u001b[0m\u001b[1;33m.\u001b[0m\u001b[0m_callable_fn\u001b[0m\u001b[1;33m(\u001b[0m\u001b[1;33m*\u001b[0m\u001b[0marray_vals\u001b[0m\u001b[1;33m,\u001b[0m \u001b[0mrun_metadata\u001b[0m\u001b[1;33m=\u001b[0m\u001b[0mself\u001b[0m\u001b[1;33m.\u001b[0m\u001b[0mrun_metadata\u001b[0m\u001b[1;33m)\u001b[0m\u001b[1;33m\u001b[0m\u001b[1;33m\u001b[0m\u001b[0m\n\u001b[0;32m   2674\u001b[0m         \u001b[1;32melse\u001b[0m\u001b[1;33m:\u001b[0m\u001b[1;33m\u001b[0m\u001b[1;33m\u001b[0m\u001b[0m\n\u001b[1;32m-> 2675\u001b[1;33m             \u001b[0mfetched\u001b[0m \u001b[1;33m=\u001b[0m \u001b[0mself\u001b[0m\u001b[1;33m.\u001b[0m\u001b[0m_callable_fn\u001b[0m\u001b[1;33m(\u001b[0m\u001b[1;33m*\u001b[0m\u001b[0marray_vals\u001b[0m\u001b[1;33m)\u001b[0m\u001b[1;33m\u001b[0m\u001b[1;33m\u001b[0m\u001b[0m\n\u001b[0m\u001b[0;32m   2676\u001b[0m         \u001b[1;32mreturn\u001b[0m \u001b[0mfetched\u001b[0m\u001b[1;33m[\u001b[0m\u001b[1;33m:\u001b[0m\u001b[0mlen\u001b[0m\u001b[1;33m(\u001b[0m\u001b[0mself\u001b[0m\u001b[1;33m.\u001b[0m\u001b[0moutputs\u001b[0m\u001b[1;33m)\u001b[0m\u001b[1;33m]\u001b[0m\u001b[1;33m\u001b[0m\u001b[1;33m\u001b[0m\u001b[0m\n\u001b[0;32m   2677\u001b[0m \u001b[1;33m\u001b[0m\u001b[0m\n",
      "\u001b[1;32m~\\Anaconda3\\lib\\site-packages\\tensorflow\\python\\client\\session.py\u001b[0m in \u001b[0;36m__call__\u001b[1;34m(self, *args, **kwargs)\u001b[0m\n\u001b[0;32m   1437\u001b[0m           ret = tf_session.TF_SessionRunCallable(\n\u001b[0;32m   1438\u001b[0m               \u001b[0mself\u001b[0m\u001b[1;33m.\u001b[0m\u001b[0m_session\u001b[0m\u001b[1;33m.\u001b[0m\u001b[0m_session\u001b[0m\u001b[1;33m,\u001b[0m \u001b[0mself\u001b[0m\u001b[1;33m.\u001b[0m\u001b[0m_handle\u001b[0m\u001b[1;33m,\u001b[0m \u001b[0margs\u001b[0m\u001b[1;33m,\u001b[0m \u001b[0mstatus\u001b[0m\u001b[1;33m,\u001b[0m\u001b[1;33m\u001b[0m\u001b[1;33m\u001b[0m\u001b[0m\n\u001b[1;32m-> 1439\u001b[1;33m               run_metadata_ptr)\n\u001b[0m\u001b[0;32m   1440\u001b[0m         \u001b[1;32mif\u001b[0m \u001b[0mrun_metadata\u001b[0m\u001b[1;33m:\u001b[0m\u001b[1;33m\u001b[0m\u001b[1;33m\u001b[0m\u001b[0m\n\u001b[0;32m   1441\u001b[0m           \u001b[0mproto_data\u001b[0m \u001b[1;33m=\u001b[0m \u001b[0mtf_session\u001b[0m\u001b[1;33m.\u001b[0m\u001b[0mTF_GetBuffer\u001b[0m\u001b[1;33m(\u001b[0m\u001b[0mrun_metadata_ptr\u001b[0m\u001b[1;33m)\u001b[0m\u001b[1;33m\u001b[0m\u001b[1;33m\u001b[0m\u001b[0m\n",
      "\u001b[1;31mKeyboardInterrupt\u001b[0m: "
     ]
    }
   ],
   "source": [
    "batch_size = 256\n",
    "model.load_weights(\"wts_m8_v7_nd.h5\")\n",
    "hist=model.fit(x_train, y_train, batch_size=batch_size, nb_epoch=15, verbose=1, validation_data=(x_test, y_test))\n",
    "model.save_weights('wts_m8_v7_nd.h5') #epochs 18"
   ]
  },
  {
   "cell_type": "code",
   "execution_count": 30,
   "metadata": {},
   "outputs": [],
   "source": [
    "cnn4 = Sequential()\n",
    "cnn4.add(Conv2D(32, kernel_size=(3, 3), activation='relu', input_shape=(28,28,1)))\n",
    "cnn4.add(BatchNormalization())\n",
    "\n",
    "cnn4.add(Conv2D(32, kernel_size=(3, 3), activation='relu'))\n",
    "cnn4.add(BatchNormalization())\n",
    "cnn4.add(MaxPooling2D(pool_size=(2, 2)))\n",
    "cnn4.add(Dropout(0.25))\n",
    "\n",
    "cnn4.add(Conv2D(64, kernel_size=(3, 3), activation='relu'))\n",
    "cnn4.add(BatchNormalization())\n",
    "cnn4.add(Dropout(0.25))\n",
    "\n",
    "cnn4.add(Conv2D(128, kernel_size=(3, 3), activation='relu'))\n",
    "cnn4.add(BatchNormalization())\n",
    "cnn4.add(MaxPooling2D(pool_size=(2, 2)))\n",
    "cnn4.add(Dropout(0.25))\n",
    "\n",
    "cnn4.add(Flatten())\n",
    "\n",
    "cnn4.add(Dense(512, activation='relu'))\n",
    "cnn4.add(BatchNormalization())\n",
    "cnn4.add(Dropout(0.5))\n",
    "\n",
    "cnn4.add(Dense(128, activation='relu'))\n",
    "cnn4.add(BatchNormalization())\n",
    "cnn4.add(Dropout(0.5))\n",
    "\n",
    "cnn4.add(Dense(2, activation='softmax'))\n",
    "\n",
    "cnn4.compile(loss=keras.losses.categorical_crossentropy,\n",
    "              optimizer=keras.optimizers.Adam(),\n",
    "              metrics=['accuracy'])\n",
    "#view rawfashion-mnist-cnn4conv.py hosted with ❤ by GitHub"
   ]
  },
  {
   "cell_type": "code",
   "execution_count": 31,
   "metadata": {},
   "outputs": [
    {
     "name": "stdout",
     "output_type": "stream",
     "text": [
      "_________________________________________________________________\n",
      "Layer (type)                 Output Shape              Param #   \n",
      "=================================================================\n",
      "conv2d_15 (Conv2D)           (None, 26, 26, 32)        320       \n",
      "_________________________________________________________________\n",
      "batch_normalization_6 (Batch (None, 26, 26, 32)        128       \n",
      "_________________________________________________________________\n",
      "conv2d_16 (Conv2D)           (None, 24, 24, 32)        9248      \n",
      "_________________________________________________________________\n",
      "batch_normalization_7 (Batch (None, 24, 24, 32)        128       \n",
      "_________________________________________________________________\n",
      "max_pooling2d_7 (MaxPooling2 (None, 12, 12, 32)        0         \n",
      "_________________________________________________________________\n",
      "dropout_6 (Dropout)          (None, 12, 12, 32)        0         \n",
      "_________________________________________________________________\n",
      "conv2d_17 (Conv2D)           (None, 10, 10, 64)        18496     \n",
      "_________________________________________________________________\n",
      "batch_normalization_8 (Batch (None, 10, 10, 64)        256       \n",
      "_________________________________________________________________\n",
      "dropout_7 (Dropout)          (None, 10, 10, 64)        0         \n",
      "_________________________________________________________________\n",
      "conv2d_18 (Conv2D)           (None, 8, 8, 128)         73856     \n",
      "_________________________________________________________________\n",
      "batch_normalization_9 (Batch (None, 8, 8, 128)         512       \n",
      "_________________________________________________________________\n",
      "max_pooling2d_8 (MaxPooling2 (None, 4, 4, 128)         0         \n",
      "_________________________________________________________________\n",
      "dropout_8 (Dropout)          (None, 4, 4, 128)         0         \n",
      "_________________________________________________________________\n",
      "flatten_4 (Flatten)          (None, 2048)              0         \n",
      "_________________________________________________________________\n",
      "dense_6 (Dense)              (None, 512)               1049088   \n",
      "_________________________________________________________________\n",
      "batch_normalization_10 (Batc (None, 512)               2048      \n",
      "_________________________________________________________________\n",
      "dropout_9 (Dropout)          (None, 512)               0         \n",
      "_________________________________________________________________\n",
      "dense_7 (Dense)              (None, 128)               65664     \n",
      "_________________________________________________________________\n",
      "batch_normalization_11 (Batc (None, 128)               512       \n",
      "_________________________________________________________________\n",
      "dropout_10 (Dropout)         (None, 128)               0         \n",
      "_________________________________________________________________\n",
      "dense_8 (Dense)              (None, 2)                 258       \n",
      "=================================================================\n",
      "Total params: 1,220,514\n",
      "Trainable params: 1,218,722\n",
      "Non-trainable params: 1,792\n",
      "_________________________________________________________________\n"
     ]
    },
    {
     "data": {
      "text/plain": [
       "True"
      ]
     },
     "execution_count": 31,
     "metadata": {},
     "output_type": "execute_result"
    }
   ],
   "source": [
    "cnn4.summary()\n",
    "cnn4.get_config()\n",
    "cnn4.layers[0].get_config()\n",
    "cnn4.layers[0].input_shape\t\t\t\n",
    "cnn4.layers[0].output_shape\t\t\t\n",
    "cnn4.layers[0].get_weights()\n",
    "np.shape(model.layers[0].get_weights()[0])\n",
    "model.layers[0].trainable"
   ]
  },
  {
   "cell_type": "code",
   "execution_count": 33,
   "metadata": {},
   "outputs": [
    {
     "name": "stderr",
     "output_type": "stream",
     "text": [
      "C:\\Users\\Rajesh Kumar Sharma\\Anaconda3\\lib\\site-packages\\ipykernel_launcher.py:3: UserWarning: The `nb_epoch` argument in `fit` has been renamed `epochs`.\n",
      "  This is separate from the ipykernel package so we can avoid doing imports until\n"
     ]
    },
    {
     "name": "stdout",
     "output_type": "stream",
     "text": [
      "Train on 12400 samples, validate on 3100 samples\n",
      "Epoch 1/10\n",
      "12400/12400 [==============================] - 61s 5ms/step - loss: 0.3896 - acc: 0.8200 - val_loss: 0.3890 - val_acc: 0.8106\n",
      "Epoch 2/10\n",
      "12400/12400 [==============================] - 68s 6ms/step - loss: 0.3783 - acc: 0.8236 - val_loss: 0.3952 - val_acc: 0.8139\n",
      "Epoch 3/10\n",
      "12400/12400 [==============================] - 70s 6ms/step - loss: 0.3730 - acc: 0.8270 - val_loss: 0.4153 - val_acc: 0.8081\n",
      "Epoch 4/10\n",
      "12400/12400 [==============================] - 70s 6ms/step - loss: 0.3595 - acc: 0.8312 - val_loss: 0.5037 - val_acc: 0.7726\n",
      "Epoch 5/10\n",
      "12400/12400 [==============================] - 70s 6ms/step - loss: 0.3624 - acc: 0.8331 - val_loss: 0.3838 - val_acc: 0.8213\n",
      "Epoch 6/10\n",
      "12400/12400 [==============================] - 74s 6ms/step - loss: 0.3581 - acc: 0.8338 - val_loss: 0.4223 - val_acc: 0.8013\n",
      "Epoch 7/10\n",
      "12400/12400 [==============================] - 74s 6ms/step - loss: 0.3531 - acc: 0.8367 - val_loss: 0.3941 - val_acc: 0.8142\n",
      "Epoch 8/10\n",
      "12400/12400 [==============================] - 74s 6ms/step - loss: 0.3452 - acc: 0.8396 - val_loss: 0.3971 - val_acc: 0.8152\n",
      "Epoch 9/10\n",
      "12400/12400 [==============================] - 73s 6ms/step - loss: 0.3477 - acc: 0.8413 - val_loss: 0.4097 - val_acc: 0.8068\n",
      "Epoch 10/10\n",
      "12400/12400 [==============================] - 72s 6ms/step - loss: 0.3414 - acc: 0.8425 - val_loss: 0.4361 - val_acc: 0.8048\n"
     ]
    }
   ],
   "source": [
    "batch_size = 256\n",
    "cnn4.load_weights(\"wts_m8_v8_nd.h5\")\n",
    "hist=cnn4.fit(x_train, y_train, batch_size=batch_size, nb_epoch=10, verbose=1, validation_data=(x_test, y_test))\n",
    "cnn4.save_weights('wts_m8_v8_nd.h5') #epochs 18"
   ]
  },
  {
   "cell_type": "code",
   "execution_count": 35,
   "metadata": {},
   "outputs": [],
   "source": [
    "model = Sequential()\n",
    "model.add(Conv2D(16, (3, 3), activation='relu', input_shape=(28,28,1)))\n",
    "model.add(MaxPooling2D(pool_size=(5,5), strides=(2, 2)))\n",
    "\n",
    "#2nd convolution layer\n",
    "#model.add(Conv2D(64, (3, 3), activation='relu'))\n",
    "model.add(Conv2D(32, (3, 3), activation='relu'))\n",
    "model.add(MaxPooling2D(pool_size=(3,3), strides=(2, 2)))\n",
    "\n",
    "#3rd convolution layer\n",
    "#model.add(Conv2D(32, (3, 3), activation='relu'))\n",
    "model.add(Conv2D(64, (3, 3), activation='relu'))\n",
    "#model.add(MaxPooling2D(pool_size=(3,3), strides=(2, 2)))\n",
    "\n",
    "model.add(Flatten())\n",
    "\n",
    "#fully connected neural networks\n",
    "model.add(Dense(256, activation='relu'))\n",
    "model.add(Dropout(0.2))\n",
    "model.add(Dense(128, activation='relu'))\n",
    "model.add(Dropout(0.2))\n",
    "\n",
    "model.add(Dense(2, activation='sigmoid'))"
   ]
  },
  {
   "cell_type": "code",
   "execution_count": 36,
   "metadata": {},
   "outputs": [
    {
     "name": "stdout",
     "output_type": "stream",
     "text": [
      "_________________________________________________________________\n",
      "Layer (type)                 Output Shape              Param #   \n",
      "=================================================================\n",
      "conv2d_22 (Conv2D)           (None, 26, 26, 16)        160       \n",
      "_________________________________________________________________\n",
      "max_pooling2d_11 (MaxPooling (None, 11, 11, 16)        0         \n",
      "_________________________________________________________________\n",
      "conv2d_23 (Conv2D)           (None, 9, 9, 32)          4640      \n",
      "_________________________________________________________________\n",
      "max_pooling2d_12 (MaxPooling (None, 4, 4, 32)          0         \n",
      "_________________________________________________________________\n",
      "conv2d_24 (Conv2D)           (None, 2, 2, 64)          18496     \n",
      "_________________________________________________________________\n",
      "flatten_6 (Flatten)          (None, 256)               0         \n",
      "_________________________________________________________________\n",
      "dense_11 (Dense)             (None, 256)               65792     \n",
      "_________________________________________________________________\n",
      "dropout_13 (Dropout)         (None, 256)               0         \n",
      "_________________________________________________________________\n",
      "dense_12 (Dense)             (None, 128)               32896     \n",
      "_________________________________________________________________\n",
      "dropout_14 (Dropout)         (None, 128)               0         \n",
      "_________________________________________________________________\n",
      "dense_13 (Dense)             (None, 2)                 258       \n",
      "=================================================================\n",
      "Total params: 122,242\n",
      "Trainable params: 122,242\n",
      "Non-trainable params: 0\n",
      "_________________________________________________________________\n"
     ]
    },
    {
     "data": {
      "text/plain": [
       "True"
      ]
     },
     "execution_count": 36,
     "metadata": {},
     "output_type": "execute_result"
    }
   ],
   "source": [
    "model.compile(loss=keras.losses.binary_crossentropy,\n",
    "              optimizer=keras.optimizers.Adadelta(),\n",
    "              metrics=['accuracy'])\n",
    "#print('test shape', x_test.shape)\n",
    "\n",
    "model.summary()\n",
    "model.get_config()\n",
    "model.layers[0].get_config()\n",
    "model.layers[0].input_shape\t\t\t\n",
    "model.layers[0].output_shape\t\t\t\n",
    "model.layers[0].get_weights()\n",
    "np.shape(model.layers[0].get_weights()[0])\n",
    "model.layers[0].trainable"
   ]
  },
  {
   "cell_type": "code",
   "execution_count": 39,
   "metadata": {},
   "outputs": [
    {
     "name": "stdout",
     "output_type": "stream",
     "text": [
      "Train on 12400 samples, validate on 3100 samples\n",
      "Epoch 1/20\n",
      "  512/12400 [>.............................] - ETA: 2s - loss: 0.3033 - acc: 0.8662"
     ]
    },
    {
     "name": "stderr",
     "output_type": "stream",
     "text": [
      "C:\\Users\\Rajesh Kumar Sharma\\Anaconda3\\lib\\site-packages\\ipykernel_launcher.py:2: UserWarning: The `nb_epoch` argument in `fit` has been renamed `epochs`.\n",
      "  \n"
     ]
    },
    {
     "name": "stdout",
     "output_type": "stream",
     "text": [
      "12400/12400 [==============================] - 3s 253us/step - loss: 0.3244 - acc: 0.8506 - val_loss: 0.3707 - val_acc: 0.8287: 1s - l\n",
      "Epoch 2/20\n",
      "12400/12400 [==============================] - 3s 251us/step - loss: 0.3207 - acc: 0.8507 - val_loss: 0.3803 - val_acc: 0.8316\n",
      "Epoch 3/20\n",
      "12400/12400 [==============================] - 3s 259us/step - loss: 0.3168 - acc: 0.8531 - val_loss: 0.4075 - val_acc: 0.8106\n",
      "Epoch 4/20\n",
      "12400/12400 [==============================] - 3s 277us/step - loss: 0.3171 - acc: 0.8558 - val_loss: 0.3741 - val_acc: 0.8305\n",
      "Epoch 5/20\n",
      "12400/12400 [==============================] - 3s 272us/step - loss: 0.3151 - acc: 0.8543 - val_loss: 0.3801 - val_acc: 0.8258\n",
      "Epoch 6/20\n",
      "12400/12400 [==============================] - 4s 285us/step - loss: 0.3084 - acc: 0.8555 - val_loss: 0.4118 - val_acc: 0.8271\n",
      "Epoch 7/20\n",
      "12400/12400 [==============================] - 4s 286us/step - loss: 0.3069 - acc: 0.8590 - val_loss: 0.3840 - val_acc: 0.8237\n",
      "Epoch 8/20\n",
      "12400/12400 [==============================] - 4s 297us/step - loss: 0.3052 - acc: 0.8602 - val_loss: 0.4068 - val_acc: 0.8279\n",
      "Epoch 9/20\n",
      "12400/12400 [==============================] - 4s 302us/step - loss: 0.2990 - acc: 0.8639 - val_loss: 0.3784 - val_acc: 0.8253\n",
      "Epoch 10/20\n",
      "12400/12400 [==============================] - 4s 302us/step - loss: 0.2990 - acc: 0.8611 - val_loss: 0.4116 - val_acc: 0.8221\n",
      "Epoch 11/20\n",
      "12400/12400 [==============================] - 4s 291us/step - loss: 0.2983 - acc: 0.8636 - val_loss: 0.3950 - val_acc: 0.8235\n",
      "Epoch 12/20\n",
      "12400/12400 [==============================] - 4s 294us/step - loss: 0.2990 - acc: 0.8640 - val_loss: 0.3719 - val_acc: 0.8276\n",
      "Epoch 13/20\n",
      "12400/12400 [==============================] - 4s 309us/step - loss: 0.2872 - acc: 0.8682 - val_loss: 0.3878 - val_acc: 0.8323\n",
      "Epoch 14/20\n",
      "12400/12400 [==============================] - 4s 305us/step - loss: 0.2854 - acc: 0.8709 - val_loss: 0.4018 - val_acc: 0.8277\n",
      "Epoch 15/20\n",
      "12400/12400 [==============================] - 4s 320us/step - loss: 0.2876 - acc: 0.8689 - val_loss: 0.4054 - val_acc: 0.8234\n",
      "Epoch 16/20\n",
      "12400/12400 [==============================] - 4s 301us/step - loss: 0.2836 - acc: 0.8705 - val_loss: 0.3948 - val_acc: 0.8169\n",
      "Epoch 17/20\n",
      "12400/12400 [==============================] - 4s 321us/step - loss: 0.2772 - acc: 0.8726 - val_loss: 0.4266 - val_acc: 0.8221\n",
      "Epoch 18/20\n",
      "12400/12400 [==============================] - 4s 318us/step - loss: 0.2781 - acc: 0.8725 - val_loss: 0.4281 - val_acc: 0.8127\n",
      "Epoch 19/20\n",
      "12400/12400 [==============================] - 4s 304us/step - loss: 0.2721 - acc: 0.8760 - val_loss: 0.4309 - val_acc: 0.8269\n",
      "Epoch 20/20\n",
      "12400/12400 [==============================] - 4s 304us/step - loss: 0.2700 - acc: 0.8769 - val_loss: 0.4102 - val_acc: 0.8223\n"
     ]
    }
   ],
   "source": [
    "model.load_weights(\"wts_m5_v2.h5\")\n",
    "hist=model.fit(x_train, y_train, batch_size=batch_size, nb_epoch=20, verbose=1, validation_data=(x_test, y_test))\n",
    "model.save_weights('wts_m5_v2.h5')#epochs 30"
   ]
  },
  {
   "cell_type": "code",
   "execution_count": 8,
   "metadata": {},
   "outputs": [
    {
     "name": "stdout",
     "output_type": "stream",
     "text": [
      "WARNING:tensorflow:From C:\\Users\\Rajesh Kumar Sharma\\Anaconda3\\lib\\site-packages\\tensorflow\\python\\framework\\op_def_library.py:263: colocate_with (from tensorflow.python.framework.ops) is deprecated and will be removed in a future version.\n",
      "Instructions for updating:\n",
      "Colocations handled automatically by placer.\n"
     ]
    }
   ],
   "source": [
    "from keras import models, layers\n",
    "#Instantiate an empty model\n",
    "model = Sequential()\n",
    "\n",
    "# C1 Convolutional Layer\n",
    "#model.add(layers.Conv2D(6, kernel_size=(5, 5), strides=(1, 1), activation='tanh', input_shape=(28,28,1), padding=\"same\"))\n",
    "model.add(layers.Conv2D(6, kernel_size=(5, 5), strides=(1, 1), activation='tanh', input_shape=(32,32,1), padding=\"same\"))\n",
    "# S2 Pooling Layer\n",
    "model.add(layers.AveragePooling2D(pool_size=(2, 2), strides=(1, 1), padding='valid'))\n",
    "\n",
    "# C3 Convolutional Layer\n",
    "model.add(layers.Conv2D(16, kernel_size=(5, 5), strides=(1, 1), activation='tanh', padding='valid'))\n",
    "\n",
    "# S4 Pooling Layer\n",
    "model.add(layers.AveragePooling2D(pool_size=(2, 2), strides=(2, 2), padding='valid'))\n",
    "\n",
    "# C5 Fully Connected Convolutional Layer\n",
    "model.add(layers.Conv2D(120, kernel_size=(5, 5), strides=(1, 1), activation='tanh', padding='valid'))\n",
    "#Flatten the CNN output so that we can connect it with fully connected layers\n",
    "model.add(layers.Flatten())\n",
    "\n",
    "# FC6 Fully Connected Layer\n",
    "model.add(layers.Dense(84, activation='tanh'))\n",
    "\n",
    "#Output Layer with softmax activation\n",
    "model.add(layers.Dense(2, activation='softmax'))\n",
    "\n",
    "# Compile the model\n",
    "model.compile(loss=keras.losses.categorical_crossentropy, optimizer='SGD', metrics=[\"accuracy\"])"
   ]
  },
  {
   "cell_type": "code",
   "execution_count": 9,
   "metadata": {},
   "outputs": [
    {
     "name": "stdout",
     "output_type": "stream",
     "text": [
      "_________________________________________________________________\n",
      "Layer (type)                 Output Shape              Param #   \n",
      "=================================================================\n",
      "conv2d_1 (Conv2D)            (None, 32, 32, 6)         156       \n",
      "_________________________________________________________________\n",
      "average_pooling2d_1 (Average (None, 31, 31, 6)         0         \n",
      "_________________________________________________________________\n",
      "conv2d_2 (Conv2D)            (None, 27, 27, 16)        2416      \n",
      "_________________________________________________________________\n",
      "average_pooling2d_2 (Average (None, 13, 13, 16)        0         \n",
      "_________________________________________________________________\n",
      "conv2d_3 (Conv2D)            (None, 9, 9, 120)         48120     \n",
      "_________________________________________________________________\n",
      "flatten_1 (Flatten)          (None, 9720)              0         \n",
      "_________________________________________________________________\n",
      "dense_1 (Dense)              (None, 84)                816564    \n",
      "_________________________________________________________________\n",
      "dense_2 (Dense)              (None, 2)                 170       \n",
      "=================================================================\n",
      "Total params: 867,426\n",
      "Trainable params: 867,426\n",
      "Non-trainable params: 0\n",
      "_________________________________________________________________\n"
     ]
    },
    {
     "data": {
      "text/plain": [
       "True"
      ]
     },
     "execution_count": 9,
     "metadata": {},
     "output_type": "execute_result"
    }
   ],
   "source": [
    "model.summary()\n",
    "model.get_config()\n",
    "model.layers[0].get_config()\n",
    "model.layers[0].input_shape\t\t\t\n",
    "model.layers[0].output_shape\t\t\t\n",
    "model.layers[0].get_weights()\n",
    "np.shape(model.layers[0].get_weights()[0])\n",
    "model.layers[0].trainable"
   ]
  },
  {
   "cell_type": "code",
   "execution_count": 61,
   "metadata": {
    "scrolled": true
   },
   "outputs": [
    {
     "name": "stdout",
     "output_type": "stream",
     "text": [
      "Train on 12400 samples, validate on 3100 samples\n",
      "Epoch 1/50\n",
      "12400/12400 [==============================] - 10s 837us/step - loss: 0.3674 - acc: 0.8327 - val_loss: 0.3876 - val_acc: 0.8242\n",
      "Epoch 2/50\n",
      "12400/12400 [==============================] - 11s 908us/step - loss: 0.3672 - acc: 0.8322 - val_loss: 0.3912 - val_acc: 0.8223\n",
      "Epoch 3/50\n",
      "12400/12400 [==============================] - 12s 928us/step - loss: 0.3666 - acc: 0.8338 - val_loss: 0.3844 - val_acc: 0.8245\n",
      "Epoch 4/50\n",
      "12400/12400 [==============================] - 12s 955us/step - loss: 0.3653 - acc: 0.8320 - val_loss: 0.3866 - val_acc: 0.8210\n",
      "Epoch 5/50\n",
      "12400/12400 [==============================] - 12s 992us/step - loss: 0.3656 - acc: 0.8332 - val_loss: 0.3874 - val_acc: 0.8268\n",
      "Epoch 6/50\n",
      "12400/12400 [==============================] - 13s 1ms/step - loss: 0.3639 - acc: 0.8325 - val_loss: 0.3838 - val_acc: 0.8210\n",
      "Epoch 7/50\n",
      "12400/12400 [==============================] - 13s 1ms/step - loss: 0.3621 - acc: 0.8342 - val_loss: 0.3882 - val_acc: 0.8226\n",
      "Epoch 8/50\n",
      "12400/12400 [==============================] - 13s 1ms/step - loss: 0.3615 - acc: 0.8357 - val_loss: 0.3928 - val_acc: 0.8168\n",
      "Epoch 9/50\n",
      "12400/12400 [==============================] - 13s 1ms/step - loss: 0.3608 - acc: 0.8334 - val_loss: 0.3849 - val_acc: 0.8255\n",
      "Epoch 10/50\n",
      "12400/12400 [==============================] - 13s 1ms/step - loss: 0.3605 - acc: 0.8336 - val_loss: 0.3829 - val_acc: 0.8239\n",
      "Epoch 11/50\n",
      "12400/12400 [==============================] - 13s 1ms/step - loss: 0.3600 - acc: 0.8350 - val_loss: 0.3829 - val_acc: 0.8245\n",
      "Epoch 12/50\n",
      "12400/12400 [==============================] - 13s 1ms/step - loss: 0.3592 - acc: 0.8325 - val_loss: 0.3839 - val_acc: 0.8219\n",
      "Epoch 13/50\n",
      "12400/12400 [==============================] - 12s 992us/step - loss: 0.3591 - acc: 0.8351 - val_loss: 0.3849 - val_acc: 0.8187\n",
      "Epoch 14/50\n",
      "12400/12400 [==============================] - 13s 1ms/step - loss: 0.3564 - acc: 0.8382 - val_loss: 0.3852 - val_acc: 0.8216\n",
      "Epoch 15/50\n",
      "12400/12400 [==============================] - 13s 1ms/step - loss: 0.3575 - acc: 0.8368 - val_loss: 0.3912 - val_acc: 0.8229\n",
      "Epoch 16/50\n",
      "12400/12400 [==============================] - 13s 1ms/step - loss: 0.3559 - acc: 0.8373 - val_loss: 0.3822 - val_acc: 0.8248\n",
      "Epoch 17/50\n",
      "12400/12400 [==============================] - 13s 1ms/step - loss: 0.3558 - acc: 0.8368 - val_loss: 0.3799 - val_acc: 0.8239\n",
      "Epoch 18/50\n",
      "12400/12400 [==============================] - 13s 1ms/step - loss: 0.3545 - acc: 0.8366 - val_loss: 0.3851 - val_acc: 0.8261\n",
      "Epoch 19/50\n",
      "12400/12400 [==============================] - 13s 1ms/step - loss: 0.3540 - acc: 0.8369 - val_loss: 0.3860 - val_acc: 0.8219\n",
      "Epoch 20/50\n",
      "12400/12400 [==============================] - 13s 1ms/step - loss: 0.3536 - acc: 0.8371 - val_loss: 0.3914 - val_acc: 0.8194\n",
      "Epoch 21/50\n",
      "12400/12400 [==============================] - 13s 1ms/step - loss: 0.3525 - acc: 0.8407 - val_loss: 0.3833 - val_acc: 0.8223\n",
      "Epoch 22/50\n",
      "12400/12400 [==============================] - 13s 1ms/step - loss: 0.3524 - acc: 0.8387 - val_loss: 0.3860 - val_acc: 0.8232\n",
      "Epoch 23/50\n",
      "12400/12400 [==============================] - 13s 1ms/step - loss: 0.3509 - acc: 0.8390 - val_loss: 0.3806 - val_acc: 0.8226\n",
      "Epoch 24/50\n",
      "12400/12400 [==============================] - 13s 1ms/step - loss: 0.3505 - acc: 0.8423 - val_loss: 0.3829 - val_acc: 0.8216\n",
      "Epoch 25/50\n",
      "12400/12400 [==============================] - 13s 1ms/step - loss: 0.3502 - acc: 0.8393 - val_loss: 0.3800 - val_acc: 0.8255\n",
      "Epoch 26/50\n",
      "12400/12400 [==============================] - 13s 1ms/step - loss: 0.3504 - acc: 0.8388 - val_loss: 0.3814 - val_acc: 0.8229\n",
      "Epoch 27/50\n",
      "12400/12400 [==============================] - 13s 1ms/step - loss: 0.3479 - acc: 0.8401 - val_loss: 0.3804 - val_acc: 0.8245\n",
      "Epoch 28/50\n",
      "12400/12400 [==============================] - 13s 1ms/step - loss: 0.3476 - acc: 0.8406 - val_loss: 0.3820 - val_acc: 0.8206\n",
      "Epoch 29/50\n",
      "12400/12400 [==============================] - 13s 1ms/step - loss: 0.3471 - acc: 0.8410 - val_loss: 0.3846 - val_acc: 0.8229\n",
      "Epoch 30/50\n",
      "12400/12400 [==============================] - 13s 1ms/step - loss: 0.3463 - acc: 0.8410 - val_loss: 0.3859 - val_acc: 0.8187\n",
      "Epoch 31/50\n",
      "12400/12400 [==============================] - 13s 1ms/step - loss: 0.3455 - acc: 0.8436 - val_loss: 0.3796 - val_acc: 0.8255\n",
      "Epoch 32/50\n",
      "12400/12400 [==============================] - 13s 1ms/step - loss: 0.3442 - acc: 0.8437 - val_loss: 0.3805 - val_acc: 0.8219\n",
      "Epoch 33/50\n",
      "12400/12400 [==============================] - 13s 1ms/step - loss: 0.3433 - acc: 0.8429 - val_loss: 0.3830 - val_acc: 0.8226\n",
      "Epoch 34/50\n",
      "12400/12400 [==============================] - 13s 1ms/step - loss: 0.3440 - acc: 0.8431 - val_loss: 0.3794 - val_acc: 0.8232\n",
      "Epoch 35/50\n",
      "12400/12400 [==============================] - 13s 1ms/step - loss: 0.3420 - acc: 0.8437 - val_loss: 0.3845 - val_acc: 0.8187\n",
      "Epoch 36/50\n",
      "12400/12400 [==============================] - 13s 1ms/step - loss: 0.3419 - acc: 0.8435 - val_loss: 0.3940 - val_acc: 0.8203\n",
      "Epoch 37/50\n",
      "12400/12400 [==============================] - 13s 1ms/step - loss: 0.3405 - acc: 0.8471 - val_loss: 0.3801 - val_acc: 0.8235\n",
      "Epoch 38/50\n",
      "12400/12400 [==============================] - 12s 1ms/step - loss: 0.3400 - acc: 0.8434 - val_loss: 0.3809 - val_acc: 0.8223\n",
      "Epoch 39/50\n",
      "12400/12400 [==============================] - 13s 1ms/step - loss: 0.3402 - acc: 0.8469 - val_loss: 0.3820 - val_acc: 0.8248\n",
      "Epoch 40/50\n",
      "12400/12400 [==============================] - 13s 1ms/step - loss: 0.3389 - acc: 0.8460 - val_loss: 0.3801 - val_acc: 0.8213\n",
      "Epoch 41/50\n",
      "12400/12400 [==============================] - 13s 1ms/step - loss: 0.3403 - acc: 0.8455 - val_loss: 0.3799 - val_acc: 0.8232\n",
      "Epoch 42/50\n",
      "12400/12400 [==============================] - 13s 1ms/step - loss: 0.3383 - acc: 0.8440 - val_loss: 0.3811 - val_acc: 0.8219\n",
      "Epoch 43/50\n",
      "12400/12400 [==============================] - 13s 1ms/step - loss: 0.3362 - acc: 0.8494 - val_loss: 0.3808 - val_acc: 0.8226\n",
      "Epoch 44/50\n",
      "12400/12400 [==============================] - 13s 1ms/step - loss: 0.3367 - acc: 0.8476 - val_loss: 0.3859 - val_acc: 0.8216\n",
      "Epoch 45/50\n",
      "12400/12400 [==============================] - 13s 1ms/step - loss: 0.3357 - acc: 0.8470 - val_loss: 0.3911 - val_acc: 0.8197\n",
      "Epoch 46/50\n",
      "12400/12400 [==============================] - 13s 1ms/step - loss: 0.3357 - acc: 0.8479 - val_loss: 0.3878 - val_acc: 0.8197\n",
      "Epoch 47/50\n",
      "12400/12400 [==============================] - 13s 1ms/step - loss: 0.3341 - acc: 0.8490 - val_loss: 0.3861 - val_acc: 0.8213\n",
      "Epoch 48/50\n",
      "12400/12400 [==============================] - 13s 1ms/step - loss: 0.3339 - acc: 0.8494 - val_loss: 0.3853 - val_acc: 0.8255\n",
      "Epoch 49/50\n",
      "12400/12400 [==============================] - 13s 1ms/step - loss: 0.3328 - acc: 0.8489 - val_loss: 0.3813 - val_acc: 0.8229\n",
      "Epoch 50/50\n",
      "12400/12400 [==============================] - 13s 1ms/step - loss: 0.3321 - acc: 0.8512 - val_loss: 0.3812 - val_acc: 0.8197\n"
     ]
    }
   ],
   "source": [
    "model.load_weights(\"wts_m8_v8_nd.h5\")\n",
    "hist = model.fit(x=x_train,y=y_train, epochs=50, batch_size=128, validation_data=(x_test, y_test), verbose=1)\n",
    "model.save_weights('wts_m8_v8_nd.h5') #150 = 81.97"
   ]
  },
  {
   "cell_type": "code",
   "execution_count": 11,
   "metadata": {
    "scrolled": true
   },
   "outputs": [
    {
     "name": "stdout",
     "output_type": "stream",
     "text": [
      "Train on 12400 samples, validate on 3100 samples\n",
      "Epoch 1/20\n",
      "12400/12400 [==============================] - 15s 1ms/step - loss: 0.3339 - acc: 0.8484 - val_loss: 0.3825 - val_acc: 0.8274\n",
      "Epoch 2/20\n",
      "12400/12400 [==============================] - 16s 1ms/step - loss: 0.3314 - acc: 0.8483 - val_loss: 0.3809 - val_acc: 0.8258\n",
      "Epoch 3/20\n",
      "12400/12400 [==============================] - 16s 1ms/step - loss: 0.3310 - acc: 0.8498 - val_loss: 0.3849 - val_acc: 0.8258\n",
      "Epoch 4/20\n",
      "12400/12400 [==============================] - 16s 1ms/step - loss: 0.3301 - acc: 0.8502 - val_loss: 0.3823 - val_acc: 0.8261\n",
      "Epoch 5/20\n",
      "12400/12400 [==============================] - 17s 1ms/step - loss: 0.3289 - acc: 0.8529 - val_loss: 0.3860 - val_acc: 0.8235\n",
      "Epoch 6/20\n",
      "12400/12400 [==============================] - 17s 1ms/step - loss: 0.3296 - acc: 0.8475 - val_loss: 0.3814 - val_acc: 0.8287\n",
      "Epoch 7/20\n",
      "12400/12400 [==============================] - 19s 2ms/step - loss: 0.3282 - acc: 0.8525 - val_loss: 0.4078 - val_acc: 0.8190\n",
      "Epoch 8/20\n",
      "12400/12400 [==============================] - 21s 2ms/step - loss: 0.3272 - acc: 0.8508 - val_loss: 0.3839 - val_acc: 0.8258\n",
      "Epoch 9/20\n",
      "12400/12400 [==============================] - 21s 2ms/step - loss: 0.3271 - acc: 0.8532 - val_loss: 0.3811 - val_acc: 0.8265\n",
      "Epoch 10/20\n",
      "12400/12400 [==============================] - 22s 2ms/step - loss: 0.3235 - acc: 0.8533 - val_loss: 0.3833 - val_acc: 0.8261\n",
      "Epoch 11/20\n",
      "12400/12400 [==============================] - 21s 2ms/step - loss: 0.3244 - acc: 0.8524 - val_loss: 0.3803 - val_acc: 0.8294\n",
      "Epoch 12/20\n",
      "12400/12400 [==============================] - 21s 2ms/step - loss: 0.3220 - acc: 0.8560 - val_loss: 0.3910 - val_acc: 0.8252\n",
      "Epoch 13/20\n",
      "12400/12400 [==============================] - 21s 2ms/step - loss: 0.3222 - acc: 0.8511 - val_loss: 0.3895 - val_acc: 0.8213\n",
      "Epoch 14/20\n",
      "12400/12400 [==============================] - 21s 2ms/step - loss: 0.3225 - acc: 0.8536 - val_loss: 0.3838 - val_acc: 0.8265\n",
      "Epoch 15/20\n",
      "12400/12400 [==============================] - 21s 2ms/step - loss: 0.3204 - acc: 0.8553 - val_loss: 0.3915 - val_acc: 0.8261\n",
      "Epoch 16/20\n",
      "12400/12400 [==============================] - 21s 2ms/step - loss: 0.3193 - acc: 0.8537 - val_loss: 0.3819 - val_acc: 0.8290\n",
      "Epoch 17/20\n",
      "12400/12400 [==============================] - 20s 2ms/step - loss: 0.3182 - acc: 0.8572 - val_loss: 0.3857 - val_acc: 0.8268\n",
      "Epoch 18/20\n",
      "12400/12400 [==============================] - 20s 2ms/step - loss: 0.3170 - acc: 0.8581 - val_loss: 0.3868 - val_acc: 0.8245\n",
      "Epoch 19/20\n",
      "12400/12400 [==============================] - 21s 2ms/step - loss: 0.3189 - acc: 0.8571 - val_loss: 0.3847 - val_acc: 0.8294\n",
      "Epoch 20/20\n",
      "12400/12400 [==============================] - 21s 2ms/step - loss: 0.3153 - acc: 0.8566 - val_loss: 0.3843 - val_acc: 0.8271\n"
     ]
    }
   ],
   "source": [
    "model.load_weights(\"wts_m8_v8p2_nd.h5\")\n",
    "hist = model.fit(x=x_train,y=y_train, epochs=20, batch_size=128, validation_data=(x_test, y_test), verbose=1)\n",
    "model.save_weights('wts_m8_v8p2_nd.h5') #120"
   ]
  },
  {
   "cell_type": "code",
   "execution_count": 10,
   "metadata": {},
   "outputs": [],
   "source": [
    "model = Sequential()\n",
    "model.add(Conv2D(filters=32, kernel_size=(3,3), activation=\"relu\", padding=\"same\",\n",
    "                 input_shape=(64,64,1)))\n",
    "model.add(Conv2D(filters=32, kernel_size=(3,3), activation=\"relu\", padding=\"same\"))\n",
    "model.add(BatchNormalization())\n",
    "model.add(MaxPooling2D(pool_size=(2,2)))\n",
    "model.add(Dropout(0.25))\n",
    "model.add(Conv2D(filters=64, kernel_size=(3,3), activation=\"relu\", padding=\"same\"))\n",
    "model.add(Conv2D(filters=64, kernel_size=(3,3), activation=\"relu\", padding=\"same\"))\n",
    "model.add(BatchNormalization())\n",
    "model.add(MaxPooling2D(pool_size=(2,2)))\n",
    "model.add(Dropout(0.25))\n",
    "model.add(Flatten())\n",
    "model.add(Dense(1024,activation=\"relu\"))\n",
    "model.add(BatchNormalization())\n",
    "model.add(Dropout(0.3))\n",
    "model.add(Dense(2, activation=\"softmax\"))\n",
    "model.compile(loss=keras.losses.categorical_crossentropy,\n",
    "              optimizer=keras.optimizers.Adam(),\n",
    "              metrics=['accuracy'])"
   ]
  },
  {
   "cell_type": "code",
   "execution_count": 11,
   "metadata": {},
   "outputs": [
    {
     "name": "stdout",
     "output_type": "stream",
     "text": [
      "_________________________________________________________________\n",
      "Layer (type)                 Output Shape              Param #   \n",
      "=================================================================\n",
      "conv2d_5 (Conv2D)            (None, 64, 64, 32)        320       \n",
      "_________________________________________________________________\n",
      "conv2d_6 (Conv2D)            (None, 64, 64, 32)        9248      \n",
      "_________________________________________________________________\n",
      "batch_normalization_4 (Batch (None, 64, 64, 32)        128       \n",
      "_________________________________________________________________\n",
      "max_pooling2d_3 (MaxPooling2 (None, 32, 32, 32)        0         \n",
      "_________________________________________________________________\n",
      "dropout_4 (Dropout)          (None, 32, 32, 32)        0         \n",
      "_________________________________________________________________\n",
      "conv2d_7 (Conv2D)            (None, 32, 32, 64)        18496     \n",
      "_________________________________________________________________\n",
      "conv2d_8 (Conv2D)            (None, 32, 32, 64)        36928     \n",
      "_________________________________________________________________\n",
      "batch_normalization_5 (Batch (None, 32, 32, 64)        256       \n",
      "_________________________________________________________________\n",
      "max_pooling2d_4 (MaxPooling2 (None, 16, 16, 64)        0         \n",
      "_________________________________________________________________\n",
      "dropout_5 (Dropout)          (None, 16, 16, 64)        0         \n",
      "_________________________________________________________________\n",
      "flatten_2 (Flatten)          (None, 16384)             0         \n",
      "_________________________________________________________________\n",
      "dense_3 (Dense)              (None, 1024)              16778240  \n",
      "_________________________________________________________________\n",
      "batch_normalization_6 (Batch (None, 1024)              4096      \n",
      "_________________________________________________________________\n",
      "dropout_6 (Dropout)          (None, 1024)              0         \n",
      "_________________________________________________________________\n",
      "dense_4 (Dense)              (None, 2)                 2050      \n",
      "=================================================================\n",
      "Total params: 16,849,762\n",
      "Trainable params: 16,847,522\n",
      "Non-trainable params: 2,240\n",
      "_________________________________________________________________\n"
     ]
    },
    {
     "data": {
      "text/plain": [
       "True"
      ]
     },
     "execution_count": 11,
     "metadata": {},
     "output_type": "execute_result"
    }
   ],
   "source": [
    "model.summary()\n",
    "model.get_config()\n",
    "model.layers[0].get_config()\n",
    "model.layers[0].input_shape\t\t\t\n",
    "model.layers[0].output_shape\t\t\t\n",
    "model.layers[0].get_weights()\n",
    "np.shape(model.layers[0].get_weights()[0])\n",
    "model.layers[0].trainable"
   ]
  },
  {
   "cell_type": "code",
   "execution_count": 14,
   "metadata": {},
   "outputs": [
    {
     "name": "stdout",
     "output_type": "stream",
     "text": [
      "Train on 12400 samples, validate on 3100 samples\n",
      "Epoch 1/5\n",
      "12400/12400 [==============================] - 332s 27ms/step - loss: 0.3768 - acc: 0.8237 - val_loss: 0.6212 - val_acc: 0.7329\n",
      "Epoch 2/5\n",
      "12400/12400 [==============================] - 342s 28ms/step - loss: 0.3660 - acc: 0.8315 - val_loss: 0.4451 - val_acc: 0.7987\n",
      "Epoch 3/5\n",
      "12400/12400 [==============================] - 339s 27ms/step - loss: 0.3505 - acc: 0.8401 - val_loss: 0.4084 - val_acc: 0.8126\n",
      "Epoch 4/5\n",
      "12400/12400 [==============================] - 356s 29ms/step - loss: 0.3374 - acc: 0.8455 - val_loss: 0.4072 - val_acc: 0.8194\n",
      "Epoch 5/5\n",
      "12400/12400 [==============================] - 348s 28ms/step - loss: 0.3246 - acc: 0.8505 - val_loss: 0.4293 - val_acc: 0.7987\n"
     ]
    }
   ],
   "source": [
    "model.load_weights(\"wts_m8_v9_nd.h5\")\n",
    "hist = model.fit(x=x_train,y=y_train, epochs=5, batch_size=128, validation_data=(x_test, y_test), verbose=1)\n",
    "model.save_weights('wts_m8_v9_nd.h5') #150 = 81.19"
   ]
  },
  {
   "cell_type": "code",
   "execution_count": null,
   "metadata": {},
   "outputs": [],
   "source": []
  }
 ],
 "metadata": {
  "kernelspec": {
   "display_name": "Python 3",
   "language": "python",
   "name": "python3"
  },
  "language_info": {
   "codemirror_mode": {
    "name": "ipython",
    "version": 3
   },
   "file_extension": ".py",
   "mimetype": "text/x-python",
   "name": "python",
   "nbconvert_exporter": "python",
   "pygments_lexer": "ipython3",
   "version": "3.6.5"
  }
 },
 "nbformat": 4,
 "nbformat_minor": 2
}
